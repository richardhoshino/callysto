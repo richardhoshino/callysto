{
 "cells": [
  {
   "cell_type": "markdown",
   "metadata": {},
   "source": [
    "![alt text](https://github.com/callysto/callysto-sample-notebooks/blob/master/notebooks/images/Callysto_Notebook-Banner_Top_06.06.18.jpg?raw=true)"
   ]
  },
  {
   "cell_type": "markdown",
   "metadata": {},
   "source": [
    "# Counting Routes Problem\n",
    "## Let's count the number of routes from the bottom-left square to the top-right square\n",
    "### Solve this problem for both the 4x4 board and the 5x5 board"
   ]
  },
  {
   "cell_type": "markdown",
   "metadata": {},
   "source": [
    "\n",
    "<table><tr><td><img src='https://i.stack.imgur.com/YK08Gm.png?raw=true'></td><td><img src='https://i.stack.imgur.com/IfEhXm.png?raw=true'></td></tr></table>\n",
    "\n",
    "\n",
    "\n",
    "\n"
   ]
  },
  {
   "cell_type": "code",
   "execution_count": 1,
   "metadata": {},
   "outputs": [],
   "source": [
    "def routes(x,y):\n",
    "    if x == 1: \n",
    "        return 1\n",
    "    elif y == 1:\n",
    "        return 1\n",
    "    else:\n",
    "        return routes(x-1,y)+routes(x,y-1)"
   ]
  },
  {
   "cell_type": "code",
   "execution_count": 2,
   "metadata": {},
   "outputs": [
    {
     "data": {
      "text/plain": [
       "70"
      ]
     },
     "execution_count": 2,
     "metadata": {},
     "output_type": "execute_result"
    }
   ],
   "source": [
    "routes(5,5)"
   ]
  },
  {
   "cell_type": "code",
   "execution_count": 3,
   "metadata": {},
   "outputs": [
    {
     "name": "stdout",
     "output_type": "stream",
     "text": [
      "[1, 5, 15, 35, 70]\n",
      "[1, 4, 10, 20, 35]\n",
      "[1, 3, 6, 10, 15]\n",
      "[1, 2, 3, 4, 5]\n",
      "[1, 1, 1, 1, 1]\n"
     ]
    }
   ],
   "source": [
    "for x in (5,4,3,2,1):\n",
    "    print([routes(x, y) for y in [1,2,3,4,5]])"
   ]
  },
  {
   "cell_type": "code",
   "execution_count": 4,
   "metadata": {},
   "outputs": [
    {
     "name": "stdout",
     "output_type": "stream",
     "text": [
      "1\n",
      "3\n",
      "6\n",
      "10\n",
      "15\n",
      "21\n",
      "28\n",
      "36\n",
      "45\n",
      "55\n"
     ]
    }
   ],
   "source": [
    "for x in (1,2,3,4,5,6,7,8,9,10):\n",
    "    print(routes(x, 3))"
   ]
  },
  {
   "cell_type": "code",
   "execution_count": 5,
   "metadata": {},
   "outputs": [
    {
     "data": {
      "text/html": [
       "<script src=\"https://cdn.geogebra.org/apps/deployggb.js\"></script>"
      ],
      "text/plain": [
       "<IPython.core.display.HTML object>"
      ]
     },
     "metadata": {},
     "output_type": "display_data"
    }
   ],
   "source": [
    "%%html\n",
    "<script src=\"https://cdn.geogebra.org/apps/deployggb.js\"></script>"
   ]
  },
  {
   "cell_type": "code",
   "execution_count": 6,
   "metadata": {},
   "outputs": [
    {
     "data": {
      "text/html": [
       "\n",
       "<div id=\"ggb-point\"></div>\n",
       "\n",
       "<script>\n",
       "  var ggbApp = new GGBApplet({\n",
       "      \"height\": 400,\n",
       "      \"showToolBar\": false,\n",
       "      \"showMenuBar\": false,\n",
       "      \"showAlgebraInput\": false,\n",
       "      \"showResetIcon\": true,\n",
       "      \"enableLabelDrags\": false,\n",
       "      \"enableRightClick\": false,\n",
       "      \"enableShiftDragZoom\": true,\n",
       "      \"useBrowserForJS\": false,\n",
       "      \"filename\": \"geogebra.ggb\"\n",
       "  }, 'ggb-point');\n",
       "\n",
       "  ggbApp.inject();\n",
       "</script>"
      ],
      "text/plain": [
       "<IPython.core.display.HTML object>"
      ]
     },
     "metadata": {},
     "output_type": "display_data"
    }
   ],
   "source": [
    "%%html\n",
    "\n",
    "<div id=\"ggb-point\"></div>\n",
    "\n",
    "<script>\n",
    "  var ggbApp = new GGBApplet({\n",
    "      \"height\": 400,\n",
    "      \"showToolBar\": false,\n",
    "      \"showMenuBar\": false,\n",
    "      \"showAlgebraInput\": false,\n",
    "      \"showResetIcon\": true,\n",
    "      \"enableLabelDrags\": false,\n",
    "      \"enableRightClick\": false,\n",
    "      \"enableShiftDragZoom\": true,\n",
    "      \"useBrowserForJS\": false,\n",
    "      \"filename\": \"geogebra.ggb\"\n",
    "  }, 'ggb-point');\n",
    "\n",
    "  ggbApp.inject();\n",
    "</script>"
   ]
  },
  {
   "cell_type": "markdown",
   "metadata": {},
   "source": [
    "# Powerful Problem-Solving Principles\n",
    "## Recursion, combining solutions to problems we've already solved, searching for patterns.\n",
    "### See if you can figure out all the ways that these \"heuristics\" are used in the following video."
   ]
  },
  {
   "cell_type": "code",
   "execution_count": 7,
   "metadata": {},
   "outputs": [
    {
     "data": {
      "text/html": [
       "<H1><p><iframe width=\"560\" height=\"315\" src=\"https://www.youtube.com/embed/cdgQpa1pUUE?rel=0&amp;start=0;showinfo=0\" frameborder=\"0\" allow=\"autoplay; encrypted-media\" allowfullscreen> </iframe></p>"
      ],
      "text/plain": [
       "<IPython.core.display.HTML object>"
      ]
     },
     "execution_count": 7,
     "metadata": {},
     "output_type": "execute_result"
    }
   ],
   "source": [
    "from IPython.display import HTML\n",
    "HTML('<H1><p><iframe width=\"560\" height=\"315\" src=\"https://www.youtube.com/embed/cdgQpa1pUUE?rel=0&amp;start=0;showinfo=0\" frameborder=\"0\" allow=\"autoplay; encrypted-media\" allowfullscreen> </iframe></p>' )"
   ]
  },
  {
   "cell_type": "markdown",
   "metadata": {},
   "source": [
    "![alt text](https://github.com/callysto/callysto-sample-notebooks/blob/master/notebooks/images/Callysto_Notebook-Banners_Bottom_06.06.18.jpg?raw=true)"
   ]
  }
 ],
 "metadata": {
  "kernelspec": {
   "display_name": "Python 3",
   "language": "python",
   "name": "python3"
  },
  "language_info": {
   "codemirror_mode": {
    "name": "ipython",
    "version": 3
   },
   "file_extension": ".py",
   "mimetype": "text/x-python",
   "name": "python",
   "nbconvert_exporter": "python",
   "pygments_lexer": "ipython3",
   "version": "3.6.5"
  }
 },
 "nbformat": 4,
 "nbformat_minor": 2
}

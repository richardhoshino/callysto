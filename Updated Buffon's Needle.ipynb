{
 "cells": [
  {
   "cell_type": "markdown",
   "metadata": {},
   "source": [
    "# The Buffon's Needle Problem"
   ]
  },
  {
   "cell_type": "markdown",
   "metadata": {},
   "source": [
    "Buffon's Needle is one of the oldest problems in geometric probability, originating in 1777.\n",
    "\n",
    "Through this problem, it is possible to estimate the value of $\\pi$ by dropping needles of length $l$ on a sheet of paper that has parallel lines a distance of $d$ apart. For this exercise, we'll make both $l$ and $s$ equal to $1$."
   ]
  },
  {
   "cell_type": "markdown",
   "metadata": {},
   "source": [
    "<img src=\"BuffonNeedle.gif\" width=\"400\"/>"
   ]
  },
  {
   "cell_type": "markdown",
   "metadata": {},
   "source": [
    "### Try it yourself! Use the cell below to run the experiment:"
   ]
  },
  {
   "cell_type": "code",
   "execution_count": 1,
   "metadata": {},
   "outputs": [
    {
     "data": {
      "application/vnd.jupyter.widget-view+json": {
       "model_id": "6644e2f655d34a5088031c6fb9a053ea",
       "version_major": 2,
       "version_minor": 0
      },
      "text/html": [
       "<p>Failed to display Jupyter Widget of type <code>Box</code>.</p>\n",
       "<p>\n",
       "  If you're reading this message in the Jupyter Notebook or JupyterLab Notebook, it may mean\n",
       "  that the widgets JavaScript is still loading. If this message persists, it\n",
       "  likely means that the widgets JavaScript library is either not installed or\n",
       "  not enabled. See the <a href=\"https://ipywidgets.readthedocs.io/en/stable/user_install.html\">Jupyter\n",
       "  Widgets Documentation</a> for setup instructions.\n",
       "</p>\n",
       "<p>\n",
       "  If you're reading this message in another frontend (for example, a static\n",
       "  rendering on GitHub or <a href=\"https://nbviewer.jupyter.org/\">NBViewer</a>),\n",
       "  it may mean that your frontend doesn't currently support widgets.\n",
       "</p>\n"
      ],
      "text/plain": [
       "Box(children=(Button(button_style='primary', description='Drop a needle', layout=Layout(height='40px', width='150px'), style=ButtonStyle()), Button(button_style='warning', description='Reset', layout=Layout(height='40px', width='150px'), style=ButtonStyle())), layout=Layout(justify_content='flex-start'))"
      ]
     },
     "metadata": {},
     "output_type": "display_data"
    },
    {
     "data": {
      "image/png": "[encoded data removed]",
      "text/plain": [
       "<matplotlib.figure.Figure at 0x7f735bd239e8>"
      ]
     },
     "metadata": {},
     "output_type": "display_data"
    },
    {
     "name": "stdout",
     "output_type": "stream",
     "text": [
      "14 needles intersect with a line, and 3 do not.\n",
      "\n",
      "82.353% of the needles intersect with a line.\n",
      "\n"
     ]
    }
   ],
   "source": [
    "from ipywidgets import widgets, Layout, Button, Box\n",
    "from IPython.display import clear_output\n",
    "import matplotlib.pyplot as plt\n",
    "import numpy as np\n",
    "import random as rand\n",
    "\n",
    "%matplotlib inline\n",
    "\n",
    "#Setting up button and box layouts:\n",
    "button_layout = Layout(height='40px', width='150px')\n",
    "box_layout = Layout(justify_content = \"flex-start\")\n",
    "\n",
    "#Creates the buttons:\n",
    "button1 = widgets.Button(description = \"Drop a needle\", button_style = \"primary\", layout = button_layout)\n",
    "button2 = widgets.Button(description = \"Reset\", button_style = \"warning\", layout = button_layout)\n",
    "\n",
    "buttons = [button1, button2]\n",
    "\n",
    "#Creates the box:\n",
    "button_box = Box(children = buttons, layout = box_layout)\n",
    "\n",
    "#Running list of dropped needles. Each entry is a tuple of (horizontal values, vertical values, color)\n",
    "needles = []\n",
    "\n",
    "color = \"\"\n",
    "crossed = 0\n",
    "not_crossed = 0\n",
    "\n",
    "#Setting up graph\n",
    "fig, ax = plt.subplots(figsize=(10, 10))\n",
    "ax.grid(axis='x', color = \"#2653FF\")\n",
    "\n",
    "#Button handlers:\n",
    "def drop_needle(button):\n",
    "    \n",
    "    global needles, color, crossed, not_crossed\n",
    "    \n",
    "    #Generating the center point and angle of the needle:\n",
    "    center_x = rand.uniform(0,5)\n",
    "    center_y = rand.uniform(0,5)\n",
    "    angle = np.radians(rand.uniform(0,180))\n",
    "    \n",
    "    #Calculating the endpoints of the needle:\n",
    "    x1 = center_x - (np.sin(angle)*.5)\n",
    "    x2 = center_x + (np.sin(angle)*.5)\n",
    "    \n",
    "    y1 = center_y - (np.cos(angle)*.5)\n",
    "    y2 = center_y + (np.cos(angle)*.5)\n",
    "    \n",
    "    horiz = np.linspace(x1, x2)\n",
    "    vert = np.linspace(y1, y2)\n",
    "    \n",
    "    #Checking if the needle crosses a line:\n",
    "    if x1 < 0 < x2 or x1 > 0 > x2 or x1 < 1 < x2 or x1 > 1 > x2 or x1 < 2 < x2 or x1 > 2 > x2 or x1 < 3 < x2 or x1 > 3 > x2 \\\n",
    "    or x1 < 4 < x2 or x1 > 4 > x2 or x1 < 5 < x2 or x1 > 5 > x2:\n",
    "        \n",
    "        color = \"#E55151\"\n",
    "        crossed += 1\n",
    "        \n",
    "    else:\n",
    "        \n",
    "        color = \"#3F814A\"\n",
    "        not_crossed += 1\n",
    "        \n",
    "    #Adding the new needle to the list:\n",
    "    needle = (horiz, vert, color)\n",
    "    needles.append(needle)\n",
    "    \n",
    "    #Clearing output, redisplaying buttons and graph:\n",
    "    clear_output()\n",
    "    display(button_box)\n",
    "    display_needles()\n",
    "    \n",
    "    #Printing explanatory text:\n",
    "    print(f\"{crossed} needles intersect with a line, and {not_crossed} do not.\\n\")\n",
    "\n",
    "    chance = crossed/(crossed + not_crossed)\n",
    "    #calc_chance = 2/np.pi\n",
    "    #calc_pi = 2/chance\n",
    "    #difference = abs(np.pi - calc_pi)\n",
    "\n",
    "    print(f\"{round(chance*100, 3)}% of the needles intersect with a line.\")\n",
    "    print()\n",
    "    \n",
    "\n",
    "def reset(button):\n",
    "    global needles, color, crossed, not_crossed, fig, ax, button_box\n",
    "    \n",
    "    #Resetting needles and other variables:\n",
    "    needles = []\n",
    "\n",
    "    color = \"\"\n",
    "    crossed = 0\n",
    "    not_crossed = 0\n",
    "\n",
    "    #Resetting graph\n",
    "    clear_output()\n",
    "    fig, ax = plt.subplots(figsize=(10, 10))\n",
    "    ax.grid(axis='x', color = \"#2653FF\")\n",
    "    \n",
    "    #Displaying buttons:\n",
    "    display(button_box)\n",
    "    \n",
    "\n",
    "#Function to display the graph:\n",
    "def display_needles():\n",
    "    global needles, fig, ax\n",
    "    \n",
    "    #Setting up graph\n",
    "    fig, ax = plt.subplots(figsize=(10, 10))\n",
    "    ax.grid(axis='x', color = \"#2653FF\")\n",
    "    \n",
    "    plt.xlim(-.5,5.5)\n",
    "    plt.ylim(-.5,5.5)\n",
    "    \n",
    "    #Plotting needles\n",
    "    for needle in needles:\n",
    "        \n",
    "        horiz = needle[0]\n",
    "        vert = needle[1]\n",
    "        color = needle[2]\n",
    "        \n",
    "        plt.plot(horiz,vert,color = color)\n",
    "    \n",
    "    plt.show()\n",
    "\n",
    "    \n",
    "display(button_box)\n",
    "plt.show()\n",
    "\n",
    "button1.on_click(drop_needle)\n",
    "button2.on_click(reset)"
   ]
  },
  {
   "cell_type": "markdown",
   "metadata": {},
   "source": [
    "### Now let's try dropping more needles!\n",
    "\n",
    "The cell below will run the same experiment, but will not print the graph to save run time. Try choosing a value of $n$ greater than 1000."
   ]
  },
  {
   "cell_type": "code",
   "execution_count": 2,
   "metadata": {},
   "outputs": [
    {
     "name": "stdout",
     "output_type": "stream",
     "text": [
      "How many needles would you like to drop? 10000\n",
      "\n",
      "6356 needles intersect with a line, and 3644 do not.\n",
      "\n",
      "63.56% of the needles intersect with a line.\n",
      "\n"
     ]
    }
   ],
   "source": [
    "import matplotlib.pyplot as plt\n",
    "import numpy as np\n",
    "import random as rand\n",
    "\n",
    "#Asking for user input on number of trials:\n",
    "trials = int(input(\"How many needles would you like to drop? \"))\n",
    "\n",
    "while trials < 1:\n",
    "    \n",
    "    trials = int(input(\"Please enter a number greater than 0: \"))\n",
    "\n",
    "#length = float(input(\"What length would you like the needles to be? \"))\n",
    "\n",
    "#while length > 1 or length <= 0:\n",
    "    \n",
    "    #length = float(input(\"Please choose a length less than 1 and greater than 0: \"))\n",
    "\n",
    "length = 1\n",
    "crossed = 0\n",
    "not_crossed = 0\n",
    "\n",
    "#Generating and plotting needles:\n",
    "for n in range(0, trials):\n",
    "    \n",
    "    #Generating the center point and angle of the needle:\n",
    "    center_x = rand.uniform(0,5)\n",
    "    center_y = rand.uniform(0,5)\n",
    "    angle = np.radians(rand.uniform(0,180))\n",
    "    \n",
    "    #Calculating the endpoints of the needle:\n",
    "    x1 = center_x - (np.sin(angle)*.5*length)\n",
    "    x2 = center_x + (np.sin(angle)*.5*length)\n",
    "    \n",
    "    y1 = center_y - (np.cos(angle)*.5*length)\n",
    "    y2 = center_y + (np.cos(angle)*.5*length)\n",
    "\n",
    "    \n",
    "    #Checking if the needle crosses a line:\n",
    "    if x1 < 0 < x2 or x1 > 0 > x2 or x1 < 1 < x2 or x1 > 1 > x2 or x1 < 2 < x2 or x1 > 2 > x2 or x1 < 3 < x2 or x1 > 3 > x2 \\\n",
    "    or x1 < 4 < x2 or x1 > 4 > x2 or x1 < 5 < x2 or x1 > 5 > x2:\n",
    "        \n",
    "        crossed += 1\n",
    "        \n",
    "    else:\n",
    "\n",
    "        not_crossed += 1\n",
    "\n",
    "print()\n",
    "print(f\"{crossed} needles intersect with a line, and {not_crossed} do not.\\n\")\n",
    "\n",
    "chance = crossed/trials\n",
    "calc_chance = 2*length/np.pi\n",
    "calc_pi = 2*length/chance\n",
    "difference = abs(np.pi - calc_pi)\n",
    "\n",
    "print(f\"{round(chance*100, 3)}% of the needles intersect with a line.\")\n",
    "print()\n",
    "#print(f\"Estimating pi using this experiment gives: {calc_pi}\")\n",
    "#print(f\"This estimate differs from pi by approximately {round(difference, 5)}.\")"
   ]
  },
  {
   "cell_type": "markdown",
   "metadata": {},
   "source": [
    "### How does it work?\n",
    "\n",
    "Buffon calculated that the probability $P$ of the dropped needle crossing one of the lines on the paper to be the following, when $l$ and $d$ are both equal to $1$:\n",
    "\n",
    "\\begin{equation*}\n",
    "P ≈ \\frac{2}{\\pi}\n",
    "\\end{equation*}\n",
    "\n",
    "Since $P ≈ \\frac{2}{\\pi }$, that means $\\pi$ can be approximated as $\\pi ≈ \\frac {2}{P}$.\n",
    "\n",
    "Now we can use a Monte Carlo simulation in order to estimate $\\pi$. This means that we can estimate $P$ by performing the experiment and dropping needles on a page to count what fraction of them intersect with a line, and then use that estimate to calculate $\\pi$ from the equation $\\pi ≈ \\frac {2}{P}$. The more tests we run (i.e. the more needles we drop), the more accurate our estimate of $P$ will be, and by extension, our estimate of $\\pi$. Try out how well this approximation works using this formula and the widget above!"
   ]
  },
  {
   "cell_type": "markdown",
   "metadata": {},
   "source": [
    "If you are interested in seeing this experiment performed in real life, please watch this video on the Buffon's Needle problem by Numberphile. It also includes a proof of where the equation for $P$ comes from using calculus."
   ]
  },
  {
   "cell_type": "code",
   "execution_count": 3,
   "metadata": {},
   "outputs": [
    {
     "data": {
      "image/jpeg": "[encoded data removed]",
      "text/html": [
       "\n",
       "        <iframe\n",
       "            width=\"400\"\n",
       "            height=\"300\"\n",
       "            src=\"https://www.youtube.com/embed/sJVivjuMfWA\"\n",
       "            frameborder=\"0\"\n",
       "            allowfullscreen\n",
       "        ></iframe>\n",
       "        "
      ],
      "text/plain": [
       "<IPython.lib.display.YouTubeVideo at 0x7f735be40fd0>"
      ]
     },
     "execution_count": 3,
     "metadata": {},
     "output_type": "execute_result"
    }
   ],
   "source": [
    "from IPython.display import YouTubeVideo\n",
    "YouTubeVideo('sJVivjuMfWA')"
   ]
  },
  {
   "cell_type": "markdown",
   "metadata": {},
   "source": [
    "**Sources:**\n",
    "\n",
    "http://mathworld.wolfram.com/BuffonsNeedleProblem.html\n",
    "\n",
    "https://mste.illinois.edu/activity/buffon/\n",
    "\n",
    "https://www.youtube.com/watch?v=sJVivjuMfWA"
   ]
  }
 ],
 "metadata": {
  "kernelspec": {
   "display_name": "Python 3",
   "language": "python",
   "name": "python3"
  },
  "language_info": {
   "codemirror_mode": {
    "name": "ipython",
    "version": 3
   },
   "file_extension": ".py",
   "mimetype": "text/x-python",
   "name": "python",
   "nbconvert_exporter": "python",
   "pygments_lexer": "ipython3",
   "version": "3.6.5"
  }
 },
 "nbformat": 4,
 "nbformat_minor": 2
}

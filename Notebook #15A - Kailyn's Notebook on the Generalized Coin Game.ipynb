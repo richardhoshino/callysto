{
 "cells": [
  {
   "cell_type": "markdown",
   "metadata": {},
   "source": [
    "![Callysto Banner](https://raw.githubusercontent.com/Ariel-VB/Central-Limit-Theorem/master/Callysto_Notebook-Banner_Top_06.06.18.jpg)"
   ]
  },
  {
   "cell_type": "code",
   "execution_count": 1,
   "metadata": {},
   "outputs": [
    {
     "data": {
      "text/html": [
       "<script>\n",
       "  function code_toggle() {\n",
       "    if (code_shown){\n",
       "      $('div.input').hide('500');\n",
       "      $('#toggleButton').val('Show Code')\n",
       "    } else {\n",
       "      $('div.input').show('500');\n",
       "      $('#toggleButton').val('Hide Code')\n",
       "    }\n",
       "    code_shown = !code_shown\n",
       "  }\n",
       "  \n",
       "  $( document ).ready(function(){\n",
       "    code_shown=false;\n",
       "    $('div.input').hide()\n",
       "  });\n",
       "</script>\n",
       "<form action=\"javascript:code_toggle()\"><input type=\"submit\" id=\"toggleButton\" value=\"Show Code\"></form>"
      ],
      "text/plain": [
       "<IPython.core.display.HTML object>"
      ]
     },
     "execution_count": 1,
     "metadata": {},
     "output_type": "execute_result"
    }
   ],
   "source": [
    "#Hide code\n",
    "from IPython.display import HTML\n",
    "\n",
    "HTML('''<script>\n",
    "  function code_toggle() {\n",
    "    if (code_shown){\n",
    "      $('div.input').hide('500');\n",
    "      $('#toggleButton').val('Show Code')\n",
    "    } else {\n",
    "      $('div.input').show('500');\n",
    "      $('#toggleButton').val('Hide Code')\n",
    "    }\n",
    "    code_shown = !code_shown\n",
    "  }\n",
    "  \n",
    "  $( document ).ready(function(){\n",
    "    code_shown=false;\n",
    "    $('div.input').hide()\n",
    "  });\n",
    "</script>\n",
    "<form action=\"javascript:code_toggle()\"><input type=\"submit\" id=\"toggleButton\" value=\"Show Code\"></form>''')"
   ]
  },
  {
   "cell_type": "markdown",
   "metadata": {},
   "source": [
    "# The Adjustable Coin Game\n",
    "\n",
    "Hello! Welcome to the coin game. \n",
    "\n",
    "<ins>The Rules:</ins>\n",
    "Imagine that there is a stack of coins sitting on the table in front of you (you decide how many). You and a partner will take turns, alternatively removing coins from the pile. On each turn you can take either up to some set number of coins (you decide) from the pile. You can't skip a turn, and you can't remove more than that number of coins. The person who takes the last coin from the table either wins or loses the game (you decide), and gets to keep all of the money.\n",
    "\n",
    "<ins>Getting Started:</ins>\n",
    "Grab a partner, two different coloured pens (to keep track of how many coins are left after each of your turns), and a piece of paper. We're going to start off by playing against each other, and then we will challenge a computer program using the strategies we have learned! Good luck."
   ]
  },
  {
   "cell_type": "code",
   "execution_count": 2,
   "metadata": {},
   "outputs": [],
   "source": [
    "#Importing the tools we need:\n",
    "import ipywidgets as widgets\n",
    "from IPython.display import clear_output\n",
    "from ipywidgets import widgets, Layout, Button, Box\n",
    "from IPython.display import clear_output\n",
    "import random\n",
    "\n",
    "#The needed global pieces\n",
    "box_layout = Layout(justify_content = \"center\")\n",
    "\n",
    "turn = \"F\"\n",
    "\n",
    "coins = 0\n",
    "taken_coins = 0\n",
    "player_turn = 0\n",
    "game_over = 0\n",
    "\n",
    "def replay():\n",
    "    global turn\n",
    "    global coins\n",
    "    global first_or_second\n",
    "    global taken_coins\n",
    "    global player_turn\n",
    "    global game_over\n",
    "    play_again = None\n",
    "    \n",
    "    while play_again != 'Yes' and play_again != 'yes' and play_again != 'No' and play_again != 'no':\n",
    "        play_again = input(\"Thank you for playing! Would you like to play again?\")\n",
    "            \n",
    "    clear_output()\n",
    "    \n",
    "    if play_again == 'Yes' or play_again == 'yes':\n",
    "        turn = \"F\"\n",
    "        coins = 0\n",
    "        taken_coins = 0\n",
    "        player_turn = 0\n",
    "            \n",
    "        game(turn)\n",
    "            \n",
    "    elif play_again == 'No' or play_again == 'no':\n",
    "        turn = 'Q'\n",
    "        print(\"Thank you for playing! See you next time.\")\n",
    "    else: \n",
    "        print(\"An unknown error has occured. Please try again later.\")"
   ]
  },
  {
   "cell_type": "code",
   "execution_count": 3,
   "metadata": {},
   "outputs": [],
   "source": [
    "#Main game function, takes turn as input\n",
    "def game(turn):\n",
    "    global coins\n",
    "    global first_or_second\n",
    "    global taken_coins\n",
    "    global player_turn\n",
    "    global game_over\n",
    "    \n",
    "    #Only runs on the first turn\n",
    "    if turn == \"F\":\n",
    "        \n",
    "        #Do all the stuff you need to do before the game starts here\n",
    "        print(\"Hello! Welcome to the coin game!\")\n",
    "        \n",
    "        while coins == 0:\n",
    "            coins = int(input('How many coins would you like to play with?'))\n",
    "            \n",
    "        while taken_coins == 0:\n",
    "            taken_coins = int(input('What is the maximal number of coins you would like a player to be able to take on their turn?'))\n",
    "\n",
    "        while player_turn != 1 and player_turn != 2:\n",
    "            player_turn = int(input(\"Would you like to play first or second? Please enter 1 for first and 2 for second.\"))\n",
    "        \n",
    "        clear_output()\n",
    "        \n",
    "        if player_turn == 1:\n",
    "            turn = 'P'\n",
    "        elif player_turn == 2:\n",
    "            turn = 'C'\n",
    "        else:\n",
    "            turn = 'F'\n",
    "    \n",
    "        game(turn)\n",
    "    \n",
    "    #win check\n",
    "    elif coins == 0 and game_over != 1:\n",
    "        \n",
    "        if turn == 'C':\n",
    "            print(\"Congratulations! You win!\")\n",
    "        elif turn == 'P':\n",
    "            print(\"The computer has won.\")\n",
    "        \n",
    "        replay()\n",
    "        \n",
    "    #Runs if it is the player's turn    \n",
    "    elif turn == \"P\":\n",
    "        \n",
    "        taking_coins = coins + 100\n",
    "        \n",
    "        while taking_coins > coins or taking_coins > taken_coins:\n",
    "            taking_coins = int(input(\"How many coins would you like to take?\"))\n",
    "        \n",
    "        clear_output()\n",
    "        \n",
    "        coins = coins - taking_coins\n",
    "        \n",
    "        turn = 'C'\n",
    "        game(turn)\n",
    "        \n",
    "    #Runs if it is the computer's turn\n",
    "    elif turn == \"C\":\n",
    "        \n",
    "        print(\"There are \" + str(coins) + \" coins in the pile.\")\n",
    "        \n",
    "        #Here you will want to have the computer decide what they will do, and update the coins\n",
    "        for x in range(1,taken_coins+1):\n",
    "            if (coins - x)%(taken_coins+1) == 0:\n",
    "                coins = coins - x\n",
    "                print(\"The computer has taken \" + str(x) + ' coins from the pile, leaving ' + str(coins) + ' coins.')\n",
    "                turn = 'P'\n",
    "                game(turn)\n",
    "            else:\n",
    "                continue\n",
    "                \n",
    "        computer_taken = random.randint(1,taken_coins)\n",
    "        \n",
    "        coins = coins - computer_taken\n",
    "        print(\"The computer has taken \" + str(computer_taken) + ' coins from the pile, leaving ' + str(coins) + ' coins.')\n",
    "        \n",
    "        #Turn is switched to the player\n",
    "        turn = \"P\"\n",
    "        \n",
    "        #Calls the game function again\n",
    "        game(turn)"
   ]
  },
  {
   "cell_type": "markdown",
   "metadata": {},
   "source": [
    "# Let's Play!"
   ]
  },
  {
   "cell_type": "code",
   "execution_count": null,
   "metadata": {},
   "outputs": [
    {
     "name": "stdout",
     "output_type": "stream",
     "text": [
      "Hello! Welcome to the coin game!\n"
     ]
    }
   ],
   "source": [
    "game(turn)"
   ]
  },
  {
   "cell_type": "markdown",
   "metadata": {},
   "source": [
    "![Callysto Banner](https://github.com/Ariel-VB/Central-Limit-Theorem/blob/master/Callysto_Notebook-Banners_Bottom_06.06.18.jpg?raw=true)"
   ]
  }
 ],
 "metadata": {
  "kernelspec": {
   "display_name": "Python 3",
   "language": "python",
   "name": "python3"
  },
  "language_info": {
   "codemirror_mode": {
    "name": "ipython",
    "version": 3
   },
   "file_extension": ".py",
   "mimetype": "text/x-python",
   "name": "python",
   "nbconvert_exporter": "python",
   "pygments_lexer": "ipython3",
   "version": "3.6.8"
  }
 },
 "nbformat": 4,
 "nbformat_minor": 2
}

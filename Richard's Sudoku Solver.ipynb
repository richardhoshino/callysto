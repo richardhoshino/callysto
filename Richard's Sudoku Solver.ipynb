{
 "cells": [
  {
   "cell_type": "code",
   "execution_count": 1,
   "metadata": {},
   "outputs": [
    {
     "name": "stdout",
     "output_type": "stream",
     "text": [
      "Please select a file as input:\n"
     ]
    },
    {
     "data": {
      "application/vnd.jupyter.widget-view+json": {
       "model_id": "0bdd9058d8a44e2aa09043216dd4fdcc",
       "version_major": 2,
       "version_minor": 0
      },
      "text/plain": [
       "SelectFilesButton(description='Select Files', icon='square-o', style=ButtonStyle(button_color='orange'))"
      ]
     },
     "metadata": {},
     "output_type": "display_data"
    }
   ],
   "source": [
    "import traitlets\n",
    "from ipywidgets import widgets\n",
    "from IPython.display import display\n",
    "from tkinter import Tk, filedialog\n",
    "\n",
    "class SelectFilesButton(widgets.Button):\n",
    "    \"\"\"A file widget that leverages tkinter.filedialog.\"\"\"\n",
    "\n",
    "    def __init__(self):\n",
    "        super(SelectFilesButton, self).__init__()\n",
    "        # Add the selected_files trait\n",
    "        self.add_traits(files=traitlets.traitlets.List())\n",
    "        # Create the button.\n",
    "        self.description = \"Select Files\"\n",
    "        self.icon = \"square-o\"\n",
    "        self.style.button_color = \"orange\"\n",
    "        # Set on click behavior.\n",
    "        self.on_click(self.select_files)\n",
    "\n",
    "    @staticmethod\n",
    "    def select_files(b):\n",
    "        \"\"\"Generate instance of tkinter.filedialog.\n",
    "\n",
    "        Parameters\n",
    "        ----------\n",
    "        b : obj:\n",
    "            An instance of ipywidgets.widgets.Button \n",
    "        \"\"\"\n",
    "        # Create Tk root\n",
    "        root = Tk()\n",
    "        # Hide the main window\n",
    "        root.withdraw()\n",
    "        # Raise the root to the top of all windows.\n",
    "        root.call('wm', 'attributes', '.', '-topmost', True)\n",
    "        # List of selected fileswill be set to b.value\n",
    "        b.files = filedialog.askopenfilename(multiple=True)\n",
    "\n",
    "        b.description = \"Files Selected\"\n",
    "        b.icon = \"check-square-o\"\n",
    "        b.style.button_color = \"lightgreen\"\n",
    "\n",
    "print(\"Please select a file as input:\")\n",
    "my_button = SelectFilesButton()\n",
    "my_button # This will display the button in the context of a Jupyter Notebook"
   ]
  },
  {
   "cell_type": "code",
   "execution_count": 7,
   "metadata": {},
   "outputs": [
    {
     "name": "stdout",
     "output_type": "stream",
     "text": [
      "Optimal Solution\n",
      "\n",
      "812753649\n",
      "943682175\n",
      "675491283\n",
      "154237896\n",
      "369845721\n",
      "287169534\n",
      "521974368\n",
      "438526917\n",
      "796318452"
     ]
    }
   ],
   "source": [
    "from pulp import *\n",
    "Rows = [1,2,3,4,5,6,7,8,9]\n",
    "Cols = [1,2,3,4,5,6,7,8,9]\n",
    "Vals = [1,2,3,4,5,6,7,8,9]\n",
    "Boxes =[]\n",
    "for i in range(3):\n",
    "    for j in range(3):\n",
    "        Boxes += [[(Rows[3*i+k],Cols[3*j+l]) for k in range(3) for l in range(3)]]\n",
    "prob = LpProblem(\"Sudoku Problem\",LpMinimize)\n",
    "choices = LpVariable.dicts(\"X\",(Rows,Cols,Vals),0,1,LpInteger)\n",
    "prob += 0\n",
    "for r in Rows:\n",
    "    for c in Cols:\n",
    "        prob += lpSum([choices[r][c][v] for v in Vals]) == 1, \"\"\n",
    "for v in Vals:\n",
    "    for r in Rows:\n",
    "        prob += lpSum([choices[r][c][v] for c in Cols]) == 1, \"\"\n",
    "    for c in Cols:\n",
    "        prob += lpSum([choices[r][c][v] for r in Rows]) == 1, \"\"\n",
    "    for b in Boxes:\n",
    "        prob += lpSum([choices[r][c][v] for (r,c) in b]) == 1, \"\"\n",
    "        \n",
    "file_path = my_button.files[0]\n",
    "puzzle_file = open(file_path, \"r\")\n",
    "puzzle = puzzle_file.read()\n",
    "puzzle = puzzle.splitlines()\n",
    "        \n",
    "for x in range(9):\n",
    "    for y in range(9):\n",
    "        z=int(puzzle[x][y])\n",
    "        if z>0: prob += choices[x+1][y+1][z] == 1, \"\"\n",
    "            \n",
    "prob.solve()\n",
    "print(LpStatus[prob.status], \"Solution\")\n",
    "\n",
    "for r in Rows:\n",
    "    print(\"\")\n",
    "    for c in Cols:\n",
    "        for v in Vals:\n",
    "            if value(choices[r][c][v])==1:\n",
    "                print (v, end=\"\")"
   ]
  }
 ],
 "metadata": {
  "kernelspec": {
   "display_name": "Python 3",
   "language": "python",
   "name": "python3"
  },
  "language_info": {
   "codemirror_mode": {
    "name": "ipython",
    "version": 3
   },
   "file_extension": ".py",
   "mimetype": "text/x-python",
   "name": "python",
   "nbconvert_exporter": "python",
   "pygments_lexer": "ipython3",
   "version": "3.6.5"
  }
 },
 "nbformat": 4,
 "nbformat_minor": 2
}

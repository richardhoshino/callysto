{
 "cells": [
  {
   "cell_type": "markdown",
   "metadata": {},
   "source": [
    "![alt text](https://github.com/callysto/callysto-sample-notebooks/blob/master/notebooks/images/Callysto_Notebook-Banner_Top_06.06.18.jpg?raw=true)"
   ]
  },
  {
   "cell_type": "markdown",
   "metadata": {},
   "source": [
    "# Calendar Algorithm for any date in the 20th or 21st century\n",
    "## Note that January 1, 1901 was Tuesday and January 1, 2001 was Monday"
   ]
  },
  {
   "cell_type": "code",
   "execution_count": 1,
   "metadata": {},
   "outputs": [],
   "source": [
    "def calculate_day(year,month,day): \n",
    "    \n",
    "    if month in [5]: shift=1\n",
    "    elif month in [8]: shift=2     \n",
    "    elif month in [2,3,11]: shift=3 \n",
    "    elif month in [6]: shift=4\n",
    "    elif month in [9,12]: shift=5     \n",
    "    elif month in [4,7]: shift=6\n",
    "    elif month in [1,10]: shift=0\n",
    "    else: return \"ERROR\"\n",
    "        \n",
    "    mytotal=(year-1900) + (year-1900)//4 + day + shift\n",
    "    \n",
    "    if month<=2 and year%4==0: mytotal=mytotal-1\n",
    "    \n",
    "    remainder = mytotal % 7\n",
    "    \n",
    "    if remainder==0: return \"Sunday\"\n",
    "    elif remainder==1: return \"Monday\"\n",
    "    elif remainder==2: return \"Tuesday\"\n",
    "    elif remainder==3: return \"Wednesday\"\n",
    "    elif remainder==4: return \"Thursday\"\n",
    "    elif remainder==5: return \"Friday\"\n",
    "    elif remainder==6: return \"Saturday\"\n",
    "    else: return \"ERROR\""
   ]
  },
  {
   "cell_type": "code",
   "execution_count": 2,
   "metadata": {},
   "outputs": [
    {
     "data": {
      "text/plain": [
       "'Tuesday'"
      ]
     },
     "execution_count": 2,
     "metadata": {},
     "output_type": "execute_result"
    }
   ],
   "source": [
    "calculate_day(2018,11,20)"
   ]
  },
  {
   "cell_type": "code",
   "execution_count": 3,
   "metadata": {},
   "outputs": [
    {
     "data": {
      "application/vnd.jupyter.widget-view+json": {
       "model_id": "49adce58cf5d497fb437df2094f6589a",
       "version_major": 2,
       "version_minor": 0
      },
      "text/html": [
       "<p>Failed to display Jupyter Widget of type <code>interactive</code>.</p>\n",
       "<p>\n",
       "  If you're reading this message in the Jupyter Notebook or JupyterLab Notebook, it may mean\n",
       "  that the widgets JavaScript is still loading. If this message persists, it\n",
       "  likely means that the widgets JavaScript library is either not installed or\n",
       "  not enabled. See the <a href=\"https://ipywidgets.readthedocs.io/en/stable/user_install.html\">Jupyter\n",
       "  Widgets Documentation</a> for setup instructions.\n",
       "</p>\n",
       "<p>\n",
       "  If you're reading this message in another frontend (for example, a static\n",
       "  rendering on GitHub or <a href=\"https://nbviewer.jupyter.org/\">NBViewer</a>),\n",
       "  it may mean that your frontend doesn't currently support widgets.\n",
       "</p>\n"
      ],
      "text/plain": [
       "interactive(children=(IntSlider(value=1950, description='year', max=2018, min=1900), IntSlider(value=1, description='month', max=12, min=1), IntSlider(value=1, description='day', max=31, min=1), Output()), _dom_classes=('widget-interact',))"
      ]
     },
     "metadata": {},
     "output_type": "display_data"
    },
    {
     "data": {
      "text/plain": [
       "<function __main__.calculate_day(year, month, day)>"
      ]
     },
     "execution_count": 3,
     "metadata": {},
     "output_type": "execute_result"
    }
   ],
   "source": [
    "from __future__ import print_function\n",
    "from ipywidgets import interact, interactive, fixed, interact_manual\n",
    "import ipywidgets as widgets\n",
    "\n",
    "interact(calculate_day, year=widgets.IntSlider(min=1900, max=2018, step=1, value=1950), month=widgets.IntSlider(min=1, max=12, step=1, value=1), day=widgets.IntSlider(min=1, max=31, step=1, value=1))"
   ]
  },
  {
   "cell_type": "markdown",
   "metadata": {},
   "source": [
    "![alt text](https://github.com/callysto/callysto-sample-notebooks/blob/master/notebooks/images/Callysto_Notebook-Banners_Bottom_06.06.18.jpg?raw=true)"
   ]
  }
 ],
 "metadata": {
  "kernelspec": {
   "display_name": "Python 3",
   "language": "python",
   "name": "python3"
  },
  "language_info": {
   "codemirror_mode": {
    "name": "ipython",
    "version": 3
   },
   "file_extension": ".py",
   "mimetype": "text/x-python",
   "name": "python",
   "nbconvert_exporter": "python",
   "pygments_lexer": "ipython3",
   "version": "3.6.5"
  }
 },
 "nbformat": 4,
 "nbformat_minor": 2
}

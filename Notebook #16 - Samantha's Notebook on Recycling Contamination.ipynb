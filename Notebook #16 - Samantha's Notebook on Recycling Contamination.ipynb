{
 "cells": [
  {
   "cell_type": "markdown",
   "metadata": {},
   "source": [
    "![Callysto Banner](https://raw.githubusercontent.com/Ariel-VB/Central-Limit-Theorem/master/Callysto_Notebook-Banner_Top_06.06.18.jpg)"
   ]
  },
  {
   "cell_type": "code",
   "execution_count": 1,
   "metadata": {},
   "outputs": [
    {
     "data": {
      "text/html": [
       "<script>\n",
       "  function code_toggle() {\n",
       "    if (code_shown){\n",
       "      $('div.input').hide('500');\n",
       "      $('#toggleButton').val('Show Code')\n",
       "    } else {\n",
       "      $('div.input').show('500');\n",
       "      $('#toggleButton').val('Hide Code')\n",
       "    }\n",
       "    code_shown = !code_shown\n",
       "  }\n",
       "  \n",
       "  $( document ).ready(function(){\n",
       "    code_shown=false;\n",
       "    $('div.input').hide()\n",
       "  });\n",
       "</script>\n",
       "<form action=\"javascript:code_toggle()\"><input type=\"submit\" id=\"toggleButton\" value=\"Show Code\"></form>"
      ],
      "text/plain": [
       "<IPython.core.display.HTML object>"
      ]
     },
     "metadata": {},
     "output_type": "display_data"
    }
   ],
   "source": [
    "#Running this cell displays a button to toggle hidden code\n",
    "#From: http://chris-said.io/2016/02/13/how-to-make-polished-jupyter-presentations-with-optional-code-visibility/\n",
    "\n",
    "from IPython.display import HTML\n",
    "\n",
    "display (HTML('''<script>\n",
    "  function code_toggle() {\n",
    "    if (code_shown){\n",
    "      $('div.input').hide('500');\n",
    "      $('#toggleButton').val('Show Code')\n",
    "    } else {\n",
    "      $('div.input').show('500');\n",
    "      $('#toggleButton').val('Hide Code')\n",
    "    }\n",
    "    code_shown = !code_shown\n",
    "  }\n",
    "  \n",
    "  $( document ).ready(function(){\n",
    "    code_shown=false;\n",
    "    $('div.input').hide()\n",
    "  });\n",
    "</script>\n",
    "<form action=\"javascript:code_toggle()\"><input type=\"submit\" id=\"toggleButton\" value=\"Show Code\"></form>'''))"
   ]
  },
  {
   "cell_type": "code",
   "execution_count": 2,
   "metadata": {},
   "outputs": [],
   "source": [
    "#Colour Functions!\n",
    "\n",
    "def colour_green(value):\n",
    "    color = \"#7be840\"\n",
    "    return \"background-color: %s\" % color\n",
    "def colour_blue(value):\n",
    "    color = \"#70aeff\"\n",
    "    return \"background-color: %s\" % color\n",
    "def colour_grey(value):\n",
    "    color = \"#a5a5a5\"\n",
    "    return \"background-color: %s\" % color\n",
    "def colour_yellow(value):\n",
    "    color = \"#fcff66\"\n",
    "    return \"background-color: %s\" % color\n",
    "def colour_orange(value):\n",
    "    color = \"#ffa449\"\n",
    "    return \"background-color: %s\" % color"
   ]
  },
  {
   "cell_type": "markdown",
   "metadata": {},
   "source": [
    "# Recycling Contamination"
   ]
  },
  {
   "cell_type": "markdown",
   "metadata": {},
   "source": [
    "When people throw waste into the wrong bin, they cause that waste stream to be contaminated. \n",
    "<br> Contamination in each waste stream causes different problems:"
   ]
  },
  {
   "cell_type": "markdown",
   "metadata": {},
   "source": [
    "### <font color=grey>Landfill:</font>\n",
    "> When **compostable waste** enters the Landfill, it releases methane (a powerful greenhouse gas) into the atmosphere, which contributes to global warming.\n",
    "> <br> When **recyclable waste** enters the Landfill, the resources used to make the recyclable items are lost and take up valuable space.\n",
    "### <font color=blue>Recycling:</font>\n",
    "> When **compostable waste** enters the Recycling stream, it ruins the recyclable items and causes them to be sent to Landfill.\n",
    "<br> When **landfill waste** enters the Recycling stream, it clogs up the machines used to sort recyclable waste and causes mechanical issues.\n",
    "### <font color=green>Compost:</font>\n",
    "> When **recyclable** and **landfill waste** enter the Compost stream, they have to be sorted out by workers using their hands, or else they are ground up into tiny bits and left in the soil, harming ecosystems."
   ]
  },
  {
   "cell_type": "markdown",
   "metadata": {},
   "source": [
    "## Below is a table showing typical contamination values <br> for each waste stream.\n",
    "\n",
    "> The **bottom row** calculates how much contamination is in each stream by dividing the _number of contaminants_ by the _total number of items_ disposed in each stream.\n",
    "\n",
    "> Cells with the number of items disposed correctly in each stream are colour-coded, and contamination is highlighted yellow."
   ]
  },
  {
   "cell_type": "code",
   "execution_count": 3,
   "metadata": {},
   "outputs": [
    {
     "data": {
      "text/html": [
       "<style  type=\"text/css\" >\n",
       "    #T_dc8f684a_1db5_11e9_8313_5d03b4bc8720row0_col0 {\n",
       "            background-color:  #7be840;\n",
       "        }    #T_dc8f684a_1db5_11e9_8313_5d03b4bc8720row1_col1 {\n",
       "            background-color:  #70aeff;\n",
       "        }    #T_dc8f684a_1db5_11e9_8313_5d03b4bc8720row2_col2 {\n",
       "            background-color:  #a5a5a5;\n",
       "        }    #T_dc8f684a_1db5_11e9_8313_5d03b4bc8720row3_col0 {\n",
       "            background-color:  #fcff66;\n",
       "        }    #T_dc8f684a_1db5_11e9_8313_5d03b4bc8720row3_col1 {\n",
       "            background-color:  #fcff66;\n",
       "        }    #T_dc8f684a_1db5_11e9_8313_5d03b4bc8720row3_col2 {\n",
       "            background-color:  #fcff66;\n",
       "        }</style>  \n",
       "<table id=\"T_dc8f684a_1db5_11e9_8313_5d03b4bc8720\" > \n",
       "<thead>    <tr> \n",
       "        <th class=\"blank level0\" ></th> \n",
       "        <th class=\"col_heading level0 col0\" >Compost</th> \n",
       "        <th class=\"col_heading level0 col1\" >Recycling</th> \n",
       "        <th class=\"col_heading level0 col2\" >Landfill</th> \n",
       "    </tr></thead> \n",
       "<tbody>    <tr> \n",
       "        <th id=\"T_dc8f684a_1db5_11e9_8313_5d03b4bc8720level0_row0\" class=\"row_heading level0 row0\" >Compost</th> \n",
       "        <td id=\"T_dc8f684a_1db5_11e9_8313_5d03b4bc8720row0_col0\" class=\"data row0 col0\" >8</td> \n",
       "        <td id=\"T_dc8f684a_1db5_11e9_8313_5d03b4bc8720row0_col1\" class=\"data row0 col1\" >2</td> \n",
       "        <td id=\"T_dc8f684a_1db5_11e9_8313_5d03b4bc8720row0_col2\" class=\"data row0 col2\" >6</td> \n",
       "    </tr>    <tr> \n",
       "        <th id=\"T_dc8f684a_1db5_11e9_8313_5d03b4bc8720level0_row1\" class=\"row_heading level0 row1\" >Recycling</th> \n",
       "        <td id=\"T_dc8f684a_1db5_11e9_8313_5d03b4bc8720row1_col0\" class=\"data row1 col0\" >1</td> \n",
       "        <td id=\"T_dc8f684a_1db5_11e9_8313_5d03b4bc8720row1_col1\" class=\"data row1 col1\" >7</td> \n",
       "        <td id=\"T_dc8f684a_1db5_11e9_8313_5d03b4bc8720row1_col2\" class=\"data row1 col2\" >2</td> \n",
       "    </tr>    <tr> \n",
       "        <th id=\"T_dc8f684a_1db5_11e9_8313_5d03b4bc8720level0_row2\" class=\"row_heading level0 row2\" >Landfill</th> \n",
       "        <td id=\"T_dc8f684a_1db5_11e9_8313_5d03b4bc8720row2_col0\" class=\"data row2 col0\" >1</td> \n",
       "        <td id=\"T_dc8f684a_1db5_11e9_8313_5d03b4bc8720row2_col1\" class=\"data row2 col1\" >1</td> \n",
       "        <td id=\"T_dc8f684a_1db5_11e9_8313_5d03b4bc8720row2_col2\" class=\"data row2 col2\" >2</td> \n",
       "    </tr>    <tr> \n",
       "        <th id=\"T_dc8f684a_1db5_11e9_8313_5d03b4bc8720level0_row3\" class=\"row_heading level0 row3\" >% Contamination</th> \n",
       "        <td id=\"T_dc8f684a_1db5_11e9_8313_5d03b4bc8720row3_col0\" class=\"data row3 col0\" >20%</td> \n",
       "        <td id=\"T_dc8f684a_1db5_11e9_8313_5d03b4bc8720row3_col1\" class=\"data row3 col1\" >30%</td> \n",
       "        <td id=\"T_dc8f684a_1db5_11e9_8313_5d03b4bc8720row3_col2\" class=\"data row3 col2\" >80%</td> \n",
       "    </tr></tbody> \n",
       "</table> "
      ],
      "text/plain": [
       "<pandas.io.formats.style.Styler at 0x7fb4270f9e10>"
      ]
     },
     "metadata": {},
     "output_type": "display_data"
    }
   ],
   "source": [
    "## Contamination Data Table\n",
    "# Values are pre-set: qgrid allows them to be changed, but the % Contamination value does not automatically update.\n",
    "\n",
    "import pandas as pd\n",
    "import qgrid\n",
    "\n",
    "import warnings\n",
    "warnings.filterwarnings(\"ignore\")\n",
    "\n",
    "streams = ['Compost', 'Recycling', 'Landfill']\n",
    "contamination = [[8.0, 2.0, 6.0], \n",
    "                 [1.0, 7.0, 2.0], \n",
    "                 [1.0, 1.0, 2.0],\n",
    "                [20.0, 30.0, 80.0]] \n",
    "rows = [\"Compost\" , \"Recycling\", \"Landfill\", \"% Contamination\"]\n",
    "\n",
    "conTable = pd.DataFrame(data = contamination, columns = streams , index = rows)\n",
    "conTable.set_value(\"% Contamination\", \"Compost\", 0.2)\n",
    "conTable.set_value(\"% Contamination\", \"Recycling\", 0.3)\n",
    "conTable.set_value(\"% Contamination\", \"Landfill\", 0.8)\n",
    "\n",
    "display(conTable.style.applymap(colour_green, subset=(\"Compost\",\"Compost\"))\\\n",
    "        .applymap(colour_blue, subset=(\"Recycling\", \"Recycling\"))\\\n",
    "        .applymap(colour_grey, subset=(\"Landfill\", \"Landfill\"))\\\n",
    "        .applymap(colour_yellow, subset=(\"% Contamination\",\"Compost\"))\\\n",
    "        .applymap(colour_yellow, subset=(\"% Contamination\", \"Recycling\"))\\\n",
    "        .applymap(colour_yellow, subset=(\"% Contamination\", \"Landfill\"))\\\n",
    "        .format(\"{:.0%}\", subset = (\"% Contamination\",(\"Compost\", \"Recycling\", \"Landfill\"))))"
   ]
  },
  {
   "cell_type": "markdown",
   "metadata": {},
   "source": [
    "## How is % Contamination affected by waste disposal choices?"
   ]
  },
  {
   "cell_type": "markdown",
   "metadata": {},
   "source": [
    "Try changing the numbers in the first 3 rows of each column. As you change the \n",
    "<br> number of items in each stream, you'll notice that the % Contamination row automatically updates."
   ]
  },
  {
   "cell_type": "code",
   "execution_count": 4,
   "metadata": {},
   "outputs": [
    {
     "data": {
      "application/vnd.jupyter.widget-view+json": {
       "model_id": "72adf873a5d54f49a3a9298c5431c3b4",
       "version_major": 2,
       "version_minor": 0
      },
      "text/plain": [
       "QgridWidget(grid_options={'fullWidthRows': True, 'syncColumnCellResize': True, 'forceFitColumns': True, 'defau…"
      ]
     },
     "metadata": {},
     "output_type": "display_data"
    }
   ],
   "source": [
    "## Contamination Table with values that automatically update the % Contamination\n",
    "# qgrid allows\n",
    "\n",
    "import qgrid\n",
    "from IPython.display import clear_output\n",
    "\n",
    "\n",
    "df = pd.DataFrame(data = contamination, columns=streams, index = rows)\n",
    "\n",
    "def handler1(event, qgrid_widgetCont):\n",
    "    df = qgrid_widgetCont.get_changed_df()\n",
    "    \n",
    "    # Updating the Compost column\n",
    "    compostPercent = round((df[\"Compost\"][\"Recycling\"]+df[\"Compost\"][\"Landfill\"])/(df[\"Compost\"][\"Compost\"]+df[\"Compost\"][\"Recycling\"]+df[\"Compost\"][\"Landfill\"])*100, 0)\n",
    "    df.set_value(\"% Contamination\", \"Compost\", compostPercent)\n",
    "    \n",
    "    # Updating the Recycling column\n",
    "    recyclingPercent = round((df[\"Recycling\"][\"Compost\"]+df[\"Recycling\"][\"Landfill\"])/(df[\"Recycling\"][\"Compost\"]+df[\"Recycling\"][\"Recycling\"]+df[\"Recycling\"][\"Landfill\"])*100 , 0)\n",
    "    df.set_value(\"% Contamination\", \"Recycling\", recyclingPercent)\n",
    "    \n",
    "    # Updating the Landfill column\n",
    "    landfillPercent = round((df[\"Landfill\"][\"Compost\"]+df[\"Landfill\"][\"Recycling\"])/(df[\"Landfill\"][\"Compost\"]+df[\"Landfill\"][\"Recycling\"]+df[\"Landfill\"][\"Landfill\"])*100, 0)\n",
    "    df.set_value(\"% Contamination\", \"Landfill\", landfillPercent)\n",
    "    \n",
    "    qgrid_widgetCont = qgrid.show_grid(df)\n",
    "    clear_output()\n",
    "    qgrid_widgetCont.on(names = 'cell_edited', handler = handler1)\n",
    "    display(qgrid_widgetCont)\n",
    "\n",
    "qgrid_widgetCont = qgrid.show_grid(df)\n",
    "qgrid_widgetCont.on(names = 'cell_edited', handler = handler1)\n",
    "qgrid_widgetCont"
   ]
  },
  {
   "cell_type": "markdown",
   "metadata": {},
   "source": [
    "## Waste Disposal Costs\n",
    "> Waste disposal and collection costs money. \n",
    "<br>In Squamish, the municipal government uses taxes to collect waste from your homes.\n",
    "<br> However, businesses must pay for their own waste collection. \n",
    "\n",
    ">Often, payment is calculated using \"Tip Fees\" which are different depending on the waste stream being collected, or \"tipped\".\n",
    "<br> In Squamish, Tip Fees for different waste streams are:"
   ]
  },
  {
   "cell_type": "code",
   "execution_count": 5,
   "metadata": {},
   "outputs": [
    {
     "data": {
      "text/html": [
       "<div>\n",
       "<style scoped>\n",
       "    .dataframe tbody tr th:only-of-type {\n",
       "        vertical-align: middle;\n",
       "    }\n",
       "\n",
       "    .dataframe tbody tr th {\n",
       "        vertical-align: top;\n",
       "    }\n",
       "\n",
       "    .dataframe thead th {\n",
       "        text-align: right;\n",
       "    }\n",
       "</style>\n",
       "<table border=\"1\" class=\"dataframe\">\n",
       "  <thead>\n",
       "    <tr style=\"text-align: right;\">\n",
       "      <th></th>\n",
       "      <th>Compost Tip Fee</th>\n",
       "      <th>Recycling Tip Fee</th>\n",
       "      <th>Landfill Tip Fee</th>\n",
       "    </tr>\n",
       "  </thead>\n",
       "  <tbody>\n",
       "    <tr>\n",
       "      <th>$ / 100 kg</th>\n",
       "      <td>$8.00</td>\n",
       "      <td>$0 (free!)</td>\n",
       "      <td>$15.00 if no more than 20% contaminated</td>\n",
       "    </tr>\n",
       "    <tr>\n",
       "      <th></th>\n",
       "      <td></td>\n",
       "      <td></td>\n",
       "      <td>$32.00 if more than 20% contaminated</td>\n",
       "    </tr>\n",
       "  </tbody>\n",
       "</table>\n",
       "</div>"
      ],
      "text/plain": [
       "           Compost Tip Fee Recycling Tip Fee  \\\n",
       "$ / 100 kg           $8.00        $0 (free!)   \n",
       "                                               \n",
       "\n",
       "                                   Landfill Tip Fee  \n",
       "$ / 100 kg  $15.00 if no more than 20% contaminated  \n",
       "               $32.00 if more than 20% contaminated  "
      ]
     },
     "metadata": {},
     "output_type": "display_data"
    }
   ],
   "source": [
    "import pandas as pd\n",
    "\n",
    "types = ['Compost Tip Fee', 'Recycling Tip Fee', 'Landfill Tip Fee']\n",
    "fees = [[\"$8.00\", \"$0 (free!)\", \"$15.00 if no more than 20% contaminated\"],\n",
    "       [\"\",\"\", \"$32.00 if more than 20% contaminated\"]]\n",
    "rowsFees = [\"$ / 100 kg\",\"\"]\n",
    "\n",
    "tipFees = pd.DataFrame(data = fees, index = rowsFees, columns = types)\n",
    "display(tipFees)"
   ]
  },
  {
   "cell_type": "markdown",
   "metadata": {},
   "source": [
    "## Disposal Costs\n",
    "\n",
    "> Let's say that each stream contains 100 kg of each type of waste. <br>\n",
    "> As above, the % Contamination is highlighted yellow, and the Cost is highlighted orange."
   ]
  },
  {
   "cell_type": "code",
   "execution_count": 6,
   "metadata": {},
   "outputs": [
    {
     "data": {
      "text/html": [
       "<style  type=\"text/css\" >\n",
       "    #T_dcb7aea4_1db5_11e9_8313_5d03b4bc8720row0_col0 {\n",
       "            background-color:  #7be840;\n",
       "        }    #T_dcb7aea4_1db5_11e9_8313_5d03b4bc8720row1_col1 {\n",
       "            background-color:  #70aeff;\n",
       "        }    #T_dcb7aea4_1db5_11e9_8313_5d03b4bc8720row2_col2 {\n",
       "            background-color:  #a5a5a5;\n",
       "        }    #T_dcb7aea4_1db5_11e9_8313_5d03b4bc8720row3_col0 {\n",
       "            background-color:  #fcff66;\n",
       "        }    #T_dcb7aea4_1db5_11e9_8313_5d03b4bc8720row3_col1 {\n",
       "            background-color:  #fcff66;\n",
       "        }    #T_dcb7aea4_1db5_11e9_8313_5d03b4bc8720row3_col2 {\n",
       "            background-color:  #fcff66;\n",
       "        }    #T_dcb7aea4_1db5_11e9_8313_5d03b4bc8720row4_col0 {\n",
       "            background-color:  #ffa449;\n",
       "        }    #T_dcb7aea4_1db5_11e9_8313_5d03b4bc8720row4_col1 {\n",
       "            background-color:  #ffa449;\n",
       "        }    #T_dcb7aea4_1db5_11e9_8313_5d03b4bc8720row4_col2 {\n",
       "            background-color:  #ffa449;\n",
       "        }</style>  \n",
       "<table id=\"T_dcb7aea4_1db5_11e9_8313_5d03b4bc8720\" > \n",
       "<thead>    <tr> \n",
       "        <th class=\"blank level0\" ></th> \n",
       "        <th class=\"col_heading level0 col0\" >Compost</th> \n",
       "        <th class=\"col_heading level0 col1\" >Recycling</th> \n",
       "        <th class=\"col_heading level0 col2\" >Landfill</th> \n",
       "    </tr></thead> \n",
       "<tbody>    <tr> \n",
       "        <th id=\"T_dcb7aea4_1db5_11e9_8313_5d03b4bc8720level0_row0\" class=\"row_heading level0 row0\" >Compost</th> \n",
       "        <td id=\"T_dcb7aea4_1db5_11e9_8313_5d03b4bc8720row0_col0\" class=\"data row0 col0\" >8</td> \n",
       "        <td id=\"T_dcb7aea4_1db5_11e9_8313_5d03b4bc8720row0_col1\" class=\"data row0 col1\" >2</td> \n",
       "        <td id=\"T_dcb7aea4_1db5_11e9_8313_5d03b4bc8720row0_col2\" class=\"data row0 col2\" >6</td> \n",
       "    </tr>    <tr> \n",
       "        <th id=\"T_dcb7aea4_1db5_11e9_8313_5d03b4bc8720level0_row1\" class=\"row_heading level0 row1\" >Recycling</th> \n",
       "        <td id=\"T_dcb7aea4_1db5_11e9_8313_5d03b4bc8720row1_col0\" class=\"data row1 col0\" >1</td> \n",
       "        <td id=\"T_dcb7aea4_1db5_11e9_8313_5d03b4bc8720row1_col1\" class=\"data row1 col1\" >7</td> \n",
       "        <td id=\"T_dcb7aea4_1db5_11e9_8313_5d03b4bc8720row1_col2\" class=\"data row1 col2\" >2</td> \n",
       "    </tr>    <tr> \n",
       "        <th id=\"T_dcb7aea4_1db5_11e9_8313_5d03b4bc8720level0_row2\" class=\"row_heading level0 row2\" >Landfill</th> \n",
       "        <td id=\"T_dcb7aea4_1db5_11e9_8313_5d03b4bc8720row2_col0\" class=\"data row2 col0\" >1</td> \n",
       "        <td id=\"T_dcb7aea4_1db5_11e9_8313_5d03b4bc8720row2_col1\" class=\"data row2 col1\" >1</td> \n",
       "        <td id=\"T_dcb7aea4_1db5_11e9_8313_5d03b4bc8720row2_col2\" class=\"data row2 col2\" >2</td> \n",
       "    </tr>    <tr> \n",
       "        <th id=\"T_dcb7aea4_1db5_11e9_8313_5d03b4bc8720level0_row3\" class=\"row_heading level0 row3\" >% Contamination</th> \n",
       "        <td id=\"T_dcb7aea4_1db5_11e9_8313_5d03b4bc8720row3_col0\" class=\"data row3 col0\" >20%</td> \n",
       "        <td id=\"T_dcb7aea4_1db5_11e9_8313_5d03b4bc8720row3_col1\" class=\"data row3 col1\" >30%</td> \n",
       "        <td id=\"T_dcb7aea4_1db5_11e9_8313_5d03b4bc8720row3_col2\" class=\"data row3 col2\" >80%</td> \n",
       "    </tr>    <tr> \n",
       "        <th id=\"T_dcb7aea4_1db5_11e9_8313_5d03b4bc8720level0_row4\" class=\"row_heading level0 row4\" >Cost ($)</th> \n",
       "        <td id=\"T_dcb7aea4_1db5_11e9_8313_5d03b4bc8720row4_col0\" class=\"data row4 col0\" >8</td> \n",
       "        <td id=\"T_dcb7aea4_1db5_11e9_8313_5d03b4bc8720row4_col1\" class=\"data row4 col1\" >0</td> \n",
       "        <td id=\"T_dcb7aea4_1db5_11e9_8313_5d03b4bc8720row4_col2\" class=\"data row4 col2\" >32</td> \n",
       "    </tr></tbody> \n",
       "</table> "
      ],
      "text/plain": [
       "<pandas.io.formats.style.Styler at 0x7fb3e55100f0>"
      ]
     },
     "metadata": {},
     "output_type": "display_data"
    }
   ],
   "source": [
    "streams = ['Compost', 'Recycling', 'Landfill']\n",
    "contaminationCost = [[8.0, 2.0, 6.0], \n",
    "                 [1.0, 7.0, 2.0], \n",
    "                 [1.0, 1.0, 2.0],\n",
    "                [20.0, 30.0, 80.0],\n",
    "                    [8, 0, 32]] \n",
    "rowsCost = [\"Compost\" , \"Recycling\", \"Landfill\", \"% Contamination\", \"Cost ($)\"]\n",
    "\n",
    "conTableCost = pd.DataFrame(data = contaminationCost, columns = streams , index = rowsCost)\n",
    "conTableCost.set_value(\"% Contamination\", \"Compost\", 0.2)\n",
    "conTableCost.set_value(\"% Contamination\", \"Recycling\", 0.3)\n",
    "conTableCost.set_value(\"% Contamination\", \"Landfill\", 0.8)\n",
    "\n",
    "display(conTableCost.style.applymap(colour_green, subset=(\"Compost\",\"Compost\"))\\\n",
    "                            .applymap(colour_blue, subset=(\"Recycling\", \"Recycling\"))\\\n",
    "                            .applymap(colour_grey, subset=(\"Landfill\", \"Landfill\"))\\\n",
    "                            .applymap(colour_yellow, subset=(\"% Contamination\",\"Compost\"))\\\n",
    "                            .applymap(colour_yellow, subset=(\"% Contamination\", \"Recycling\"))\\\n",
    "                            .applymap(colour_yellow, subset=(\"% Contamination\", \"Landfill\"))\\\n",
    "                            .applymap(colour_orange, subset=(\"Cost ($)\",\"Compost\"))\\\n",
    "                            .applymap(colour_orange, subset=(\"Cost ($)\", \"Recycling\"))\\\n",
    "                            .applymap(colour_orange, subset=(\"Cost ($)\", \"Landfill\"))\\\n",
    "                            .format(\"{:.0%}\", subset = (\"% Contamination\",(\"Compost\", \"Recycling\", \"Landfill\"))))"
   ]
  },
  {
   "cell_type": "markdown",
   "metadata": {},
   "source": [
    "## Higher Tip Fees for Contamination\n",
    "> To encourage businesses to reduce and sort their waste, Squamish requires them <br> to pay a higher Tip Fee if their Landfill waste is contaminated.\n",
    "\n",
    "> In the table below, change values in the Landfill stream to bring contamination **below 20%**. <br> What happens to the Cost?"
   ]
  },
  {
   "cell_type": "code",
   "execution_count": 7,
   "metadata": {},
   "outputs": [
    {
     "data": {
      "application/vnd.jupyter.widget-view+json": {
       "model_id": "22dc7b53fe1840d587976380c0b9acd8",
       "version_major": 2,
       "version_minor": 0
      },
      "text/plain": [
       "QgridWidget(grid_options={'fullWidthRows': True, 'syncColumnCellResize': True, 'forceFitColumns': True, 'defau…"
      ]
     },
     "metadata": {},
     "output_type": "display_data"
    },
    {
     "name": "stdout",
     "output_type": "stream",
     "text": [
      "Your total waste management cost is: $ 40.0\n"
     ]
    }
   ],
   "source": [
    "## import warnings\n",
    "warnings.filterwarnings(\"ignore\")\n",
    "\n",
    "\n",
    "df2 = pd.DataFrame(data = contaminationCost, columns=streams, index = rowsCost)\n",
    "\n",
    "def handler2(event, qgrid_widgetCost):\n",
    "    df2 = qgrid_widgetCost.get_changed_df()\n",
    "    \n",
    "    # Updating the Compost column\n",
    "    compostPercent2 = round((df2[\"Compost\"][\"Recycling\"]+df2[\"Compost\"][\"Landfill\"])/(df2[\"Compost\"][\"Compost\"]+df2[\"Compost\"][\"Recycling\"]+df2[\"Compost\"][\"Landfill\"])*100, 0)\n",
    "    df2.set_value(\"% Contamination\", \"Compost\", compostPercent2)\n",
    "    \n",
    "    compostCost = 8\n",
    "    df2.set_value(\"Cost ($)\", \"Compost\", round(compostCost, 2))\n",
    "    \n",
    "    # Updating the Recycling column\n",
    "    recyclingPercent2 = round((df2[\"Recycling\"][\"Compost\"]+df2[\"Recycling\"][\"Landfill\"])/(df2[\"Recycling\"][\"Compost\"]+df2[\"Recycling\"][\"Recycling\"]+df2[\"Recycling\"][\"Landfill\"])*100, 0)\n",
    "    df2.set_value(\"% Contamination\", \"Recycling\", recyclingPercent2)\n",
    "    \n",
    "    recyclingCost = 0\n",
    "    df2.set_value(\"Cost ($)\", \"Recycling\", recyclingCost)\n",
    "    \n",
    "    # Updating the Landfill column\n",
    "    landfillPercent2 = round((df2[\"Landfill\"][\"Compost\"]+df2[\"Landfill\"][\"Recycling\"])/(df2[\"Landfill\"][\"Compost\"]+df2[\"Landfill\"][\"Recycling\"]+df2[\"Landfill\"][\"Landfill\"])*100, 0)\n",
    "    df2.set_value(\"% Contamination\", \"Landfill\", landfillPercent2)\n",
    "    \n",
    "    if landfillPercent2 > 20:\n",
    "        landfillCost = 32.00\n",
    "        df2.set_value(\"Cost ($)\", \"Landfill\", round(landfillCost, 2))\n",
    "    else:\n",
    "        landfillCost = 15\n",
    "        df2.set_value(\"Cost ($)\", \"Landfill\", round(landfillCost, 2))\n",
    "      \n",
    "    #Update and display the grid\n",
    "    qgrid_widgetCost = qgrid.show_grid(df2)\n",
    "    clear_output()\n",
    "    qgrid_widgetCost.on(names = 'cell_edited', handler = handler2)\n",
    "    display(qgrid_widgetCost)\n",
    "    totalCost = df2.get_value(\"Cost ($)\",\"Compost\") + df2.get_value(\"Cost ($)\",\"Recycling\") + df2.get_value(\"Cost ($)\",\"Landfill\")\n",
    "    print (\"Your total waste management cost is: $\", totalCost)\n",
    "\n",
    "qgrid_widgetCost = qgrid.show_grid(df2)\n",
    "qgrid_widgetCost.on(names = 'cell_edited', handler = handler2)\n",
    "display(qgrid_widgetCost)\n",
    "\n",
    "totalCost = df2.get_value(\"Cost ($)\",\"Compost\") + df2.get_value(\"Cost ($)\",\"Recycling\") + df2.get_value(\"Cost ($)\",\"Landfill\")\n",
    "print (\"Your total waste management cost is: $\", totalCost)"
   ]
  },
  {
   "cell_type": "markdown",
   "metadata": {},
   "source": [
    "# Waste Reduction, or Decontamination?\n",
    "\n",
    "> For the environment, waste reduction is always a top priority. But some businesses must continue producing waste to stay _in_ business! So, what should they try to do?\n",
    "\n",
    "> Think about the different weights and costs: \n",
    "* If 100kg of contaminated Landfill waste costs \\$32,\n",
    "<br> **How much would it cost to throw out 50kg of Landfill waste?**\n",
    "\n",
    "> _Click the button below to show the answer._"
   ]
  },
  {
   "cell_type": "code",
   "execution_count": 8,
   "metadata": {},
   "outputs": [
    {
     "data": {
      "application/vnd.jupyter.widget-view+json": {
       "model_id": "62e40c84acae4be39771c6a5eac67110",
       "version_major": 2,
       "version_minor": 0
      },
      "text/plain": [
       "Button(button_style='info', description='Show', style=ButtonStyle(), tooltip='Click me')"
      ]
     },
     "metadata": {},
     "output_type": "display_data"
    },
    {
     "data": {
      "text/html": [
       "<style  type=\"text/css\" >\n",
       "    #T_fb1985b6_1db5_11e9_8313_5d03b4bc8720row0_col1 {\n",
       "            background-color:  #ffa449;\n",
       "        }    #T_fb1985b6_1db5_11e9_8313_5d03b4bc8720row1_col1 {\n",
       "            background-color:  #fcff66;\n",
       "        }    #T_fb1985b6_1db5_11e9_8313_5d03b4bc8720row2_col1 {\n",
       "            background-color:  #7be840;\n",
       "        }</style>  \n",
       "<table id=\"T_fb1985b6_1db5_11e9_8313_5d03b4bc8720\" > \n",
       "<thead>    <tr> \n",
       "        <th class=\"blank level0\" ></th> \n",
       "        <th class=\"col_heading level0 col0\" >Weight</th> \n",
       "        <th class=\"col_heading level0 col1\" >Cost</th> \n",
       "    </tr></thead> \n",
       "<tbody>    <tr> \n",
       "        <th id=\"T_fb1985b6_1db5_11e9_8313_5d03b4bc8720level0_row0\" class=\"row_heading level0 row0\" > </th> \n",
       "        <td id=\"T_fb1985b6_1db5_11e9_8313_5d03b4bc8720row0_col0\" class=\"data row0 col0\" >100kg ( >20% contaminated)</td> \n",
       "        <td id=\"T_fb1985b6_1db5_11e9_8313_5d03b4bc8720row0_col1\" class=\"data row0 col1\" >$32</td> \n",
       "    </tr>    <tr> \n",
       "        <th id=\"T_fb1985b6_1db5_11e9_8313_5d03b4bc8720level0_row1\" class=\"row_heading level0 row1\" >  </th> \n",
       "        <td id=\"T_fb1985b6_1db5_11e9_8313_5d03b4bc8720row1_col0\" class=\"data row1 col0\" >50kg ( >20% contaminated)</td> \n",
       "        <td id=\"T_fb1985b6_1db5_11e9_8313_5d03b4bc8720row1_col1\" class=\"data row1 col1\" >$16</td> \n",
       "    </tr>    <tr> \n",
       "        <th id=\"T_fb1985b6_1db5_11e9_8313_5d03b4bc8720level0_row2\" class=\"row_heading level0 row2\" >   </th> \n",
       "        <td id=\"T_fb1985b6_1db5_11e9_8313_5d03b4bc8720row2_col0\" class=\"data row2 col0\" >100kg ( <20% contaminated)</td> \n",
       "        <td id=\"T_fb1985b6_1db5_11e9_8313_5d03b4bc8720row2_col1\" class=\"data row2 col1\" >$15</td> \n",
       "    </tr></tbody> \n",
       "</table> "
      ],
      "text/plain": [
       "<pandas.io.formats.style.Styler at 0x7fb42071dc50>"
      ]
     },
     "metadata": {},
     "output_type": "display_data"
    },
    {
     "name": "stdout",
     "output_type": "stream",
     "text": [
      "The cheapest option is to decontaminate the Landfill waste stream!\n"
     ]
    }
   ],
   "source": [
    "#Create a button to show the table with the answer.\n",
    "\n",
    "#Tools\n",
    "import ipywidgets as widgets\n",
    "from IPython.display import clear_output\n",
    "\n",
    "#Make the button\n",
    "showAnswer_button= widgets.Button(\n",
    "    description='Show',\n",
    "    disabled=False,\n",
    "    button_style='info', # 'success' (green), 'info' (blue), 'warning' (orange), 'danger' (red) or '' (white)\n",
    "    tooltip='Click me',\n",
    "    icon=''\n",
    ")\n",
    "\n",
    "#Make the table that shows the answer.\n",
    "weight = [[\"100kg ( >20% contaminated)\", \"$32\"], \n",
    "             [\"50kg ( >20% contaminated)\", \"$16\"],\n",
    "             [\"100kg ( <20% contaminated)\",\"$15\"]]\n",
    "colname = [\" \",\"  \", \"   \"]\n",
    "rowname = [\"Weight\", \"Cost\"]\n",
    "\n",
    "zeroWaste = pd.DataFrame(data = weight, columns = rowname, index = colname)\n",
    "\n",
    "\n",
    "#Define the button's function\n",
    "def showAnswer(w):\n",
    "    clear_output()\n",
    "    display(showAnswer_button)\n",
    "    display(zeroWaste.style.applymap(colour_orange, subset=(\" \", \"Cost\"))\\\n",
    "                            .applymap(colour_yellow, subset=(\"  \", \"Cost\"))\\\n",
    "                            .applymap(colour_green, subset=(\"   \", \"Cost\")))\n",
    "    print (\"The cheapest option is to decontaminate the Landfill waste stream!\")\n",
    "\n",
    "#\"When you click the button, execute this function\"    \n",
    "showAnswer_button.on_click(showAnswer)\n",
    "\n",
    "display(showAnswer_button)"
   ]
  },
  {
   "cell_type": "markdown",
   "metadata": {},
   "source": [
    "# In Conclusion:\n",
    "\n",
    "> * We can understand how different items contaminate waste streams using tables.\n",
    "> * Recycling stream contamination is expressed in percentages.\n",
    "> * Streamlining a waste management system is cheaper than reducing overall waste. "
   ]
  },
  {
   "cell_type": "markdown",
   "metadata": {},
   "source": [
    "\n",
    "![Callysto Banner](https://github.com/Ariel-VB/Central-Limit-Theorem/blob/master/Callysto_Notebook-Banners_Bottom_06.06.18.jpg?raw=true)"
   ]
  }
 ],
 "metadata": {
  "kernelspec": {
   "display_name": "Python 3",
   "language": "python",
   "name": "python3"
  },
  "language_info": {
   "codemirror_mode": {
    "name": "ipython",
    "version": 3
   },
   "file_extension": ".py",
   "mimetype": "text/x-python",
   "name": "python",
   "nbconvert_exporter": "python",
   "pygments_lexer": "ipython3",
   "version": "3.6.8"
  }
 },
 "nbformat": 4,
 "nbformat_minor": 2
}

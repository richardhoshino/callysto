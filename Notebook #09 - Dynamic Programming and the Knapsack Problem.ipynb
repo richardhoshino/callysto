{
 "cells": [
  {
   "cell_type": "markdown",
   "metadata": {},
   "source": [
    "![alt text](https://github.com/callysto/callysto-sample-notebooks/blob/master/notebooks/images/Callysto_Notebook-Banner_Top_06.06.18.jpg?raw=true)"
   ]
  },
  {
   "cell_type": "markdown",
   "metadata": {},
   "source": [
    "# Introduction to Dynamic Programming\n",
    "\n",
    "## We solve a complex problem by breaking it down into a collection of simpler subproblems, solving each of those subproblems just once, and storing their solutions.\n",
    "\n",
    "### The key idea is called \"memoization\" (not \"memorization\") and the details appear in this YouTube video"
   ]
  },
  {
   "cell_type": "code",
   "execution_count": 1,
   "metadata": {},
   "outputs": [
    {
     "data": {
      "image/jpeg": "[encoded data removed]",
      "text/html": [
       "\n",
       "        <iframe\n",
       "            width=\"400\"\n",
       "            height=\"300\"\n",
       "            src=\"https://www.youtube.com/embed/e0CAbRVYAWg\"\n",
       "            frameborder=\"0\"\n",
       "            allowfullscreen\n",
       "        ></iframe>\n",
       "        "
      ],
      "text/plain": [
       "<IPython.lib.display.YouTubeVideo at 0x7fca320c65f8>"
      ]
     },
     "execution_count": 1,
     "metadata": {},
     "output_type": "execute_result"
    }
   ],
   "source": [
    "from IPython.display import YouTubeVideo\n",
    "YouTubeVideo('e0CAbRVYAWg')"
   ]
  },
  {
   "cell_type": "code",
   "execution_count": 2,
   "metadata": {},
   "outputs": [
    {
     "data": {
      "text/plain": [
       "(832040, 1346269, 2178309)"
      ]
     },
     "execution_count": 2,
     "metadata": {},
     "output_type": "execute_result"
    }
   ],
   "source": [
    "## Let's create a function for the famous Fibonacci sequence, using the \"naive recursive\" approach.\n",
    "## You'll notice how slow this process is.\n",
    "\n",
    "def fib(n):\n",
    "    if n<=2: return 1\n",
    "    else: return fib(n-1)+fib(n-2)\n",
    "\n",
    "fib(30),fib(31),fib(32)"
   ]
  },
  {
   "cell_type": "code",
   "execution_count": 3,
   "metadata": {},
   "outputs": [
    {
     "data": {
      "text/plain": [
       "(832040, 1346269, 2178309, 354224848179261915075)"
      ]
     },
     "execution_count": 3,
     "metadata": {},
     "output_type": "execute_result"
    }
   ],
   "source": [
    "## Now here is how to code Fibonacci, using Dynamic Programming.  Look how fast this program runs!\n",
    "\n",
    "def fib(n): \n",
    "    myset = [0]*(n+1) \n",
    "    myset[1]=1\n",
    "    myset[2]=1\n",
    "    for k in range(3,n+1):\n",
    "        myset[k]=myset[k-1]+myset[k-2]\n",
    "    return myset[n]\n",
    "\n",
    "fib(30),fib(31),fib(32),fib(100)\n",
    "\n"
   ]
  },
  {
   "cell_type": "code",
   "execution_count": 4,
   "metadata": {
    "scrolled": true
   },
   "outputs": [
    {
     "name": "stdout",
     "output_type": "stream",
     "text": [
      "Step 0 -> [0, 0, 0, 0, 0, 0, 0, 0, 0]\n",
      "Step 1 -> [0, 1, 0, 0, 0, 0, 0, 0, 0]\n",
      "Step 2 -> [0, 1, 1, 0, 0, 0, 0, 0, 0]\n",
      "Step 3 -> [0, 1, 1, 2, 0, 0, 0, 0, 0]\n",
      "Step 4 -> [0, 1, 1, 2, 3, 0, 0, 0, 0]\n",
      "Step 5 -> [0, 1, 1, 2, 3, 5, 0, 0, 0]\n",
      "Step 6 -> [0, 1, 1, 2, 3, 5, 8, 0, 0]\n",
      "Step 7 -> [0, 1, 1, 2, 3, 5, 8, 13, 0]\n",
      "Step 8 -> [0, 1, 1, 2, 3, 5, 8, 13, 21]\n"
     ]
    },
    {
     "data": {
      "text/plain": [
       "21"
      ]
     },
     "execution_count": 4,
     "metadata": {},
     "output_type": "execute_result"
    }
   ],
   "source": [
    "## Why does this code work?  Let's add a \"print\" statement so we see exactly what is going on in each step.\n",
    "## Can you figure it out?  And why is this better than our first \"naive recursion\" approach?\n",
    "\n",
    "def fib(n):\n",
    "    myset = [0]*(n+1) \n",
    "    print(\"Step 0 ->\", myset)\n",
    "    myset[1]=1\n",
    "    print(\"Step 1 ->\", myset)\n",
    "    myset[2]=1\n",
    "    print(\"Step 2 ->\", myset)\n",
    "    for k in range(3,n+1):\n",
    "        myset[k]=myset[k-1]+myset[k-2]\n",
    "        print(\"Step\" , k , \"->\", myset)\n",
    "    return myset[n]\n",
    "\n",
    "fib(8)"
   ]
  },
  {
   "cell_type": "markdown",
   "metadata": {},
   "source": [
    "# The Knapsack Problem\n",
    "\n",
    "## Let's solve one of the hardest problems in Computer Science with dynamic programming."
   ]
  },
  {
   "cell_type": "code",
   "execution_count": 5,
   "metadata": {},
   "outputs": [
    {
     "data": {
      "image/jpeg": "[encoded data removed]",
      "text/html": [
       "\n",
       "        <iframe\n",
       "            width=\"400\"\n",
       "            height=\"300\"\n",
       "            src=\"https://www.youtube.com/embed/xOlhR_2QCXY\"\n",
       "            frameborder=\"0\"\n",
       "            allowfullscreen\n",
       "        ></iframe>\n",
       "        "
      ],
      "text/plain": [
       "<IPython.lib.display.YouTubeVideo at 0x7fca305255f8>"
      ]
     },
     "execution_count": 5,
     "metadata": {},
     "output_type": "execute_result"
    }
   ],
   "source": [
    "from IPython.display import YouTubeVideo\n",
    "YouTubeVideo('xOlhR_2QCXY')"
   ]
  },
  {
   "cell_type": "code",
   "execution_count": 7,
   "metadata": {},
   "outputs": [
    {
     "data": {
      "text/plain": [
       "[Item(index=0, weight=0, value=0),\n",
       " Item(index=1, weight=1, value=5),\n",
       " Item(index=2, weight=2, value=3),\n",
       " Item(index=3, weight=4, value=5),\n",
       " Item(index=4, weight=2, value=3),\n",
       " Item(index=5, weight=5, value=2)]"
      ]
     },
     "execution_count": 7,
     "metadata": {},
     "output_type": "execute_result"
    }
   ],
   "source": [
    "## Suppose there are five items, using the example from the above video.\n",
    "## Let's assume that the 0th item has weight 0 and value 0, to make our indexing more intuitive.\n",
    "\n",
    "from collections import namedtuple\n",
    "Item = namedtuple(\"Item\", ['index', 'weight', 'value'])\n",
    "\n",
    "item_count = 5\n",
    "capacity = 10\n",
    "input_data = [[0,0],[1,5],[2,3],[4,5],[2,3],[5,2]]\n",
    "\n",
    "items = []\n",
    "for i in range(0, item_count+1):\n",
    "    line = input_data[i]\n",
    "    items.append(Item(i, int(line[0]), int(line[1])))\n",
    "    \n",
    "items"
   ]
  },
  {
   "cell_type": "code",
   "execution_count": 8,
   "metadata": {},
   "outputs": [
    {
     "data": {
      "text/plain": [
       "[[0, 0, 0, 0, 0, 0, 0, 0, 0, 0, 0],\n",
       " [0, 0, 0, 0, 0, 0, 0, 0, 0, 0, 0],\n",
       " [0, 0, 0, 0, 0, 0, 0, 0, 0, 0, 0],\n",
       " [0, 0, 0, 0, 0, 0, 0, 0, 0, 0, 0],\n",
       " [0, 0, 0, 0, 0, 0, 0, 0, 0, 0, 0],\n",
       " [0, 0, 0, 0, 0, 0, 0, 0, 0, 0, 0]]"
      ]
     },
     "execution_count": 8,
     "metadata": {},
     "output_type": "execute_result"
    }
   ],
   "source": [
    "## Set up our matrix V, which will be 6 rows and 11 columns.\n",
    "## The row indices will range from i=0..5 and the column indices from j=0..10 \n",
    "## V[i,j] equals the maximum value from the first i items, with total weight at most j.\n",
    "\n",
    "V = [[0]*(capacity+1) for x in range(0,item_count+1)]\n",
    "V"
   ]
  },
  {
   "cell_type": "code",
   "execution_count": 9,
   "metadata": {},
   "outputs": [
    {
     "data": {
      "text/plain": [
       "[[0, 0, 0, 0, 0, 0, 0, 0, 0, 0, 0],\n",
       " [0, 5, 5, 5, 5, 5, 5, 5, 5, 5, 5],\n",
       " [0, 0, 0, 0, 0, 0, 0, 0, 0, 0, 0],\n",
       " [0, 0, 0, 0, 0, 0, 0, 0, 0, 0, 0],\n",
       " [0, 0, 0, 0, 0, 0, 0, 0, 0, 0, 0],\n",
       " [0, 0, 0, 0, 0, 0, 0, 0, 0, 0, 0]]"
      ]
     },
     "execution_count": 9,
     "metadata": {},
     "output_type": "execute_result"
    }
   ],
   "source": [
    "## Complete the first step of our algorithm\n",
    "for w in range(items[1].weight, capacity+1): \n",
    "    V[1][w]=items[1].value\n",
    "V"
   ]
  },
  {
   "cell_type": "code",
   "execution_count": 10,
   "metadata": {},
   "outputs": [
    {
     "data": {
      "text/plain": [
       "[[0, 0, 0, 0, 0, 0, 0, 0, 0, 0, 0],\n",
       " [0, 5, 5, 5, 5, 5, 5, 5, 5, 5, 5],\n",
       " [0, 5, 5, 8, 8, 8, 8, 8, 8, 8, 8],\n",
       " [0, 5, 5, 8, 8, 10, 10, 13, 13, 13, 13],\n",
       " [0, 5, 5, 8, 8, 11, 11, 13, 13, 16, 16],\n",
       " [0, 5, 5, 8, 8, 11, 11, 13, 13, 16, 16]]"
      ]
     },
     "execution_count": 10,
     "metadata": {},
     "output_type": "execute_result"
    }
   ],
   "source": [
    "## Complete the remaining steps of our algorithm, one object at a time.\n",
    "for i in range(1,len(items)):\n",
    "    x=items[i]\n",
    "    for w in range(0,capacity+1):\n",
    "        if x.weight>w: V[i][w]=V[i-1][w]\n",
    "        else: V[i][w]=max(V[i-1][w],x.value+V[i-1][w-x.weight])\n",
    "V"
   ]
  },
  {
   "cell_type": "code",
   "execution_count": 11,
   "metadata": {},
   "outputs": [
    {
     "data": {
      "text/plain": [
       "16"
      ]
     },
     "execution_count": 11,
     "metadata": {},
     "output_type": "execute_result"
    }
   ],
   "source": [
    "optimal_value=V[item_count][capacity]\n",
    "optimal_value"
   ]
  },
  {
   "cell_type": "code",
   "execution_count": 12,
   "metadata": {},
   "outputs": [
    {
     "data": {
      "text/plain": [
       "[Item(index=4, weight=2, value=3),\n",
       " Item(index=3, weight=4, value=5),\n",
       " Item(index=2, weight=2, value=3),\n",
       " Item(index=1, weight=1, value=5)]"
      ]
     },
     "execution_count": 12,
     "metadata": {},
     "output_type": "execute_result"
    }
   ],
   "source": [
    "## Now we know that the optimal solution has value=16.  Let's figure out which items were chosen.\n",
    "## Can you figure out how this code works?\n",
    "\n",
    "chosen_items=[]\n",
    "i=item_count\n",
    "w=capacity\n",
    "while i>=0 and w>=0:\n",
    "    if V[i][w]!=V[i-1][w]: \n",
    "        if items[i].weight>0: chosen_items.append(items[i])\n",
    "        w=w-items[i].weight\n",
    "    i=i-1\n",
    "chosen_items"
   ]
  },
  {
   "cell_type": "code",
   "execution_count": 13,
   "metadata": {},
   "outputs": [
    {
     "data": {
      "text/plain": [
       "[Item(index=0, weight=0, value=0),\n",
       " Item(index=1, weight=1945, value=4990),\n",
       " Item(index=2, weight=321, value=1142),\n",
       " Item(index=3, weight=2945, value=7390),\n",
       " Item(index=4, weight=4136, value=10372),\n",
       " Item(index=5, weight=1107, value=3114),\n",
       " Item(index=6, weight=1022, value=2744),\n",
       " Item(index=7, weight=1101, value=3102),\n",
       " Item(index=8, weight=2890, value=7280),\n",
       " Item(index=9, weight=962, value=2624),\n",
       " Item(index=10, weight=1060, value=3020),\n",
       " Item(index=11, weight=805, value=2310),\n",
       " Item(index=12, weight=689, value=2078),\n",
       " Item(index=13, weight=1513, value=3926),\n",
       " Item(index=14, weight=3878, value=9656),\n",
       " Item(index=15, weight=13504, value=32708),\n",
       " Item(index=16, weight=1865, value=4830),\n",
       " Item(index=17, weight=667, value=2034),\n",
       " Item(index=18, weight=1833, value=4766),\n",
       " Item(index=19, weight=16553, value=40006)]"
      ]
     },
     "execution_count": 13,
     "metadata": {},
     "output_type": "execute_result"
    }
   ],
   "source": [
    "## Now let's try a super-hard example!\n",
    "\n",
    "item_count = 19\n",
    "capacity = 31181\n",
    "\n",
    "input_data=[[0,0],[1945, 4990],[321, 1142],[2945, 7390],[4136, 10372],[1107, 3114],[1022, 2744],[1101, 3102],[2890, 7280],\n",
    "[962, 2624],[1060, 3020],[805, 2310],[689, 2078],[1513, 3926],[3878, 9656],[13504, 32708],[1865, 4830],[667, 2034],[1833, 4766],\n",
    "[16553, 40006]]\n",
    "\n",
    "items = []\n",
    "for i in range(0, item_count+1):\n",
    "    line = input_data[i]\n",
    "    items.append(Item(i, int(line[0]), int(line[1])))\n",
    "    \n",
    "items"
   ]
  },
  {
   "cell_type": "code",
   "execution_count": 15,
   "metadata": {},
   "outputs": [
    {
     "name": "stdout",
     "output_type": "stream",
     "text": [
      "Optimal Value is 79954 and our Total Capacity is 31181\n",
      "And below are our chosen items with total weight 31177 and total value 79954\n"
     ]
    },
    {
     "data": {
      "text/plain": [
       "[Item(index=18, weight=1833, value=4766),\n",
       " Item(index=17, weight=667, value=2034),\n",
       " Item(index=16, weight=1865, value=4830),\n",
       " Item(index=15, weight=13504, value=32708),\n",
       " Item(index=13, weight=1513, value=3926),\n",
       " Item(index=12, weight=689, value=2078),\n",
       " Item(index=11, weight=805, value=2310),\n",
       " Item(index=10, weight=1060, value=3020),\n",
       " Item(index=9, weight=962, value=2624),\n",
       " Item(index=8, weight=2890, value=7280),\n",
       " Item(index=7, weight=1101, value=3102),\n",
       " Item(index=6, weight=1022, value=2744),\n",
       " Item(index=3, weight=2945, value=7390),\n",
       " Item(index=2, weight=321, value=1142)]"
      ]
     },
     "execution_count": 15,
     "metadata": {},
     "output_type": "execute_result"
    }
   ],
   "source": [
    "totalw=0\n",
    "totalv=0\n",
    "V = [[0]*(capacity+1) for x in range(0,item_count+1)]\n",
    "for w in range(items[1].weight, capacity+1): \n",
    "    V[1][w]=items[1].value\n",
    "for i in range(1,len(items)):\n",
    "    x=items[i]\n",
    "    for w in range(0,capacity+1):\n",
    "        if x.weight>w: V[i][w]=V[i-1][w]\n",
    "        else: V[i][w]=max(V[i-1][w],x.value+V[i-1][w-x.weight])\n",
    "optimal_value=V[item_count][capacity]\n",
    "chosen_items=[]\n",
    "i=item_count\n",
    "w=capacity\n",
    "while i>=0 and w>=0:\n",
    "    if V[i][w]!=V[i-1][w]: \n",
    "        if items[i].weight>0: \n",
    "            chosen_items.append(items[i])\n",
    "            totalw=items[i].weight+totalw\n",
    "            totalv=items[i].value+totalv\n",
    "        w=w-items[i].weight\n",
    "    i=i-1\n",
    "print(\"Optimal Value is\", optimal_value, \"and our Total Capacity is\", capacity)\n",
    "print(\"And below are our chosen items with total weight\", totalw, \"and total value\", totalv)\n",
    "chosen_items"
   ]
  },
  {
   "cell_type": "markdown",
   "metadata": {},
   "source": [
    "![alt text](https://github.com/callysto/callysto-sample-notebooks/blob/master/notebooks/images/Callysto_Notebook-Banners_Bottom_06.06.18.jpg?raw=true)"
   ]
  }
 ],
 "metadata": {
  "kernelspec": {
   "display_name": "Python 3",
   "language": "python",
   "name": "python3"
  },
  "language_info": {
   "codemirror_mode": {
    "name": "ipython",
    "version": 3
   },
   "file_extension": ".py",
   "mimetype": "text/x-python",
   "name": "python",
   "nbconvert_exporter": "python",
   "pygments_lexer": "ipython3",
   "version": "3.6.5"
  }
 },
 "nbformat": 4,
 "nbformat_minor": 2
}

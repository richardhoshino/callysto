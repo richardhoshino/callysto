{
 "cells": [
  {
   "cell_type": "markdown",
   "metadata": {},
   "source": [
    "![alt text](https://github.com/callysto/callysto-sample-notebooks/blob/master/notebooks/images/Callysto_Notebook-Banner_Top_06.06.18.jpg?raw=true)"
   ]
  },
  {
   "cell_type": "markdown",
   "metadata": {},
   "source": [
    "# Helpful Links for Students and Teachers"
   ]
  },
  {
   "cell_type": "markdown",
   "metadata": {},
   "source": [
    "### Callysto Project\n",
    "\n",
    "Callysto Home Page https://callysto.ca/\n",
    "\n",
    "Callysto Developer Guide https://callysto.ca/developer-guide/\n",
    "\n",
    "Callysto Training Manual https://training.callysto.ca/\n",
    "\n",
    "Getting Started with Callysto http://bit.ly/ws-getting-started\n"
   ]
  },
  {
   "cell_type": "markdown",
   "metadata": {},
   "source": [
    "### Learning Python for Free!\n",
    "\n",
    "Waterloo CS Circles https://cscircles.cemc.uwaterloo.ca/\n",
    "\n",
    "Code Academy https://www.codecademy.com/learn/learn-python\n",
    "\n",
    "Google's Python Class https://developers.google.com/edu/python/\n",
    "\n",
    "Python Cheatsheet https://ehmatthes.github.io/pcc/cheatsheets/README.html"
   ]
  },
  {
   "cell_type": "markdown",
   "metadata": {},
   "source": [
    "### Using Jupyter Notebooks\n",
    "\n",
    "Using the Jupyter Notebook http://intro.syzygy.ca/the-basic-elements/  \n",
    "\n",
    "Michael Lamoureux's Short Demos http://bit.ly/cally-shorts2\n",
    "\n",
    "Markdown Cheatsheet https://github.com/adam-p/markdown-here/wiki/Markdown-Cheatsheet\n",
    "\n"
   ]
  },
  {
   "cell_type": "markdown",
   "metadata": {},
   "source": [
    "![alt text](https://github.com/callysto/callysto-sample-notebooks/blob/master/notebooks/images/Callysto_Notebook-Banners_Bottom_06.06.18.jpg?raw=true)"
   ]
  }
 ],
 "metadata": {
  "kernelspec": {
   "display_name": "Python 3",
   "language": "python",
   "name": "python3"
  },
  "language_info": {
   "codemirror_mode": {
    "name": "ipython",
    "version": 3
   },
   "file_extension": ".py",
   "mimetype": "text/x-python",
   "name": "python",
   "nbconvert_exporter": "python",
   "pygments_lexer": "ipython3",
   "version": "3.6.5"
  }
 },
 "nbformat": 4,
 "nbformat_minor": 2
}

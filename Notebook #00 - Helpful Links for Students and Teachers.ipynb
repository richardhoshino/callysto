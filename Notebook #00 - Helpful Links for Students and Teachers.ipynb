{
 "cells": [
  {
   "cell_type": "markdown",
   "metadata": {},
   "source": [
    "![alt text](https://github.com/callysto/callysto-sample-notebooks/blob/master/notebooks/images/Callysto_Notebook-Banner_Top_06.06.18.jpg?raw=true)"
   ]
  },
  {
   "cell_type": "markdown",
   "metadata": {},
   "source": [
    "# Helpful Links for Students and Teachers"
   ]
  },
  {
   "cell_type": "markdown",
   "metadata": {},
   "source": [
    "### Callysto Project\n",
    "\n",
    "Callysto Home Page https://callysto.ca/\n",
    "\n",
    "Callysto Developer Guide https://callysto.ca/developer-guide/\n",
    "\n",
    "Callysto Training Manual https://training.callysto.ca/\n",
    "\n",
    "Getting Started with Callysto http://bit.ly/ws-getting-started\n"
   ]
  },
  {
   "cell_type": "markdown",
   "metadata": {},
   "source": [
    "### Learning Python for Free!\n",
    "\n",
    "Waterloo CS Circles https://cscircles.cemc.uwaterloo.ca/\n",
    "\n",
    "Code Academy https://www.codecademy.com/learn/learn-python\n",
    "\n",
    "Google's Python Class https://developers.google.com/edu/python/\n",
    "\n",
    "Python Cheatsheet https://ehmatthes.github.io/pcc/cheatsheets/README.html"
   ]
  },
  {
   "cell_type": "markdown",
   "metadata": {},
   "source": [
    "### Using Jupyter Notebooks\n",
    "\n",
    "Using the Jupyter Notebook http://intro.syzygy.ca/the-basic-elements/  \n",
    "\n",
    "Michael Lamoureux's Short Demos http://bit.ly/cally-shorts2\n",
    "\n",
    "Markdown Cheatsheet https://github.com/adam-p/markdown-here/wiki/Markdown-Cheatsheet\n",
    "\n"
   ]
  },
  {
   "cell_type": "markdown",
   "metadata": {},
   "source": [
    " "
   ]
  },
  {
   "cell_type": "markdown",
   "metadata": {},
   "source": [
    "## A Brief Overview\n",
    "\n",
    "Python is arguably the world's most popular programming language, especially in industry.  Python was designed to be both simple and powerful.\n",
    "\n",
    "You are reading a Jupyter Notebook, which is an *interactive* Python environment.  This means that you can run all of the code examples you find below, and also create your own code.\n",
    "\n",
    "Each chunk of code or text in this notebook is written in a **block**. \n",
    "\n",
    "There are two main types of blocks in Jupyter Notebooks: Code and Markdown\n"
   ]
  },
  {
   "cell_type": "markdown",
   "metadata": {},
   "source": [
    "**Code blocks** are blocks that can be executed. You can **run** a code block by clicking it, and then either pressing the \"Run\" button in the top bar, or by pressing `Shift + Enter`.\n",
    "\n",
    "**Try this!** Here are some code blocks for you to run! "
   ]
  },
  {
   "cell_type": "code",
   "execution_count": 8,
   "metadata": {},
   "outputs": [
    {
     "name": "stdout",
     "output_type": "stream",
     "text": [
      "Hello, everyone\n"
     ]
    }
   ],
   "source": [
    "print(\"Hello, everyone\")"
   ]
  },
  {
   "cell_type": "code",
   "execution_count": 7,
   "metadata": {},
   "outputs": [
    {
     "data": {
      "text/plain": [
       "2019"
      ]
     },
     "execution_count": 7,
     "metadata": {},
     "output_type": "execute_result"
    }
   ],
   "source": [
    "2*1000+1*10+9"
   ]
  },
  {
   "cell_type": "code",
   "execution_count": 9,
   "metadata": {},
   "outputs": [
    {
     "data": {
      "text/plain": [
       "105"
      ]
     },
     "execution_count": 9,
     "metadata": {},
     "output_type": "execute_result"
    }
   ],
   "source": [
    "x=100\n",
    "x+5"
   ]
  },
  {
   "cell_type": "markdown",
   "metadata": {},
   "source": [
    "**Markdown blocks** allow you to write formatted text with a simple markdown language called [Markdown](https://en.wikipedia.org/wiki/Markdown). \n",
    "\n",
    "You can double-click any of the text blocks in this document, **like this one**, to see the markdown \"source\" code that produced it. Just **run** it to render it again.\n",
    "\n",
    "For more information on using Markdown, take a look at the links above."
   ]
  },
  {
   "cell_type": "markdown",
   "metadata": {},
   "source": [
    "![alt text](https://github.com/callysto/callysto-sample-notebooks/blob/master/notebooks/images/Callysto_Notebook-Banners_Bottom_06.06.18.jpg?raw=true)"
   ]
  }
 ],
 "metadata": {
  "kernelspec": {
   "display_name": "Python 3",
   "language": "python",
   "name": "python3"
  },
  "language_info": {
   "codemirror_mode": {
    "name": "ipython",
    "version": 3
   },
   "file_extension": ".py",
   "mimetype": "text/x-python",
   "name": "python",
   "nbconvert_exporter": "python",
   "pygments_lexer": "ipython3",
   "version": "3.6.8"
  }
 },
 "nbformat": 4,
 "nbformat_minor": 2
}

{
 "cells": [
  {
   "cell_type": "markdown",
   "metadata": {},
   "source": [
    "![alt text](https://github.com/callysto/callysto-sample-notebooks/blob/master/notebooks/images/Callysto_Notebook-Banner_Top_06.06.18.jpg?raw=true)"
   ]
  },
  {
   "cell_type": "markdown",
   "metadata": {},
   "source": [
    "# Calendar Algorithm for any date in the Year 2004\n",
    "\n",
    "## Note that January 1, 2004 was a Thursday"
   ]
  },
  {
   "cell_type": "code",
   "execution_count": 18,
   "metadata": {},
   "outputs": [],
   "source": [
    "import calendar as cal\n",
    "import ipywidgets as widgets\n",
    "import math"
   ]
  },
  {
   "cell_type": "code",
   "execution_count": 28,
   "metadata": {},
   "outputs": [
    {
     "data": {
      "text/html": [
       "<H1><p><iframe width=\"560\" height=\"315\" src=\"https://www.youtube.com/embed/pdMUk16675U?rel=0&amp;start=0;showinfo=0\" frameborder=\"0\" allow=\"autoplay; encrypted-media\" allowfullscreen> </iframe></p>"
      ],
      "text/plain": [
       "<IPython.core.display.HTML object>"
      ]
     },
     "execution_count": 28,
     "metadata": {},
     "output_type": "execute_result"
    }
   ],
   "source": [
    "from IPython.display import HTML\n",
    "HTML('<H1><p><iframe width=\"560\" height=\"315\" src=\"https://www.youtube.com/embed/pdMUk16675U?rel=0&amp;start=0;showinfo=0\" frameborder=\"0\" allow=\"autoplay; encrypted-media\" allowfullscreen> </iframe></p>' )"
   ]
  },
  {
   "cell_type": "code",
   "execution_count": 13,
   "metadata": {},
   "outputs": [],
   "source": [
    "def calculateday(m,d): \n",
    "        \n",
    "    if m==1: count=d\n",
    "    elif m==2: count=31+d \n",
    "    elif m==3: count=31+29+d\n",
    "    elif m==4: count=31+29+31+d\n",
    "    elif m==5: count=31+29+31+30+d \n",
    "    elif m==6: count=31+29+31+30+31+d\n",
    "    elif m==7: count=31+29+31+30+31+30+d \n",
    "    elif m==8: count=31+29+31+30+31+30+31+d \n",
    "    elif m==9: count=31+29+31+30+31+30+31+31+d \n",
    "    elif m==10: count=31+29+31+30+31+30+31+31+30+d \n",
    "    elif m==11: count=31+29+31+30+31+30+31+31+30+31+d\n",
    "    elif m==12: count=31+29+31+30+31+30+31+31+30+31+30+d \n",
    "    else: count=\"ERROR\"\n",
    "        \n",
    "    remainder = count % 7\n",
    "    \n",
    "    if remainder==4: answer=\"Sunday\"\n",
    "    elif remainder==5: answer=\"Monday\"\n",
    "    elif remainder==6: answer=\"Tuesday\"\n",
    "    elif remainder==: answer=\"Wednesday\"\n",
    "    elif remainder==1: answer=\"Thursday\"\n",
    "    elif remainder==2: answer=\"Friday\"\n",
    "    elif remainder==3: answer=\"Saturday\"\n",
    "    else: answer=\"ERROR\"\n",
    "        \n",
    "    return answer;"
   ]
  },
  {
   "cell_type": "code",
   "execution_count": 29,
   "metadata": {},
   "outputs": [
    {
     "data": {
      "application/vnd.jupyter.widget-view+json": {
       "model_id": "2f1bf0a0938f4c3ba691db2e2f4f72b0",
       "version_major": 2,
       "version_minor": 0
      },
      "text/html": [
       "<p>Failed to display Jupyter Widget of type <code>IntSlider</code>.</p>\n",
       "<p>\n",
       "  If you're reading this message in the Jupyter Notebook or JupyterLab Notebook, it may mean\n",
       "  that the widgets JavaScript is still loading. If this message persists, it\n",
       "  likely means that the widgets JavaScript library is either not installed or\n",
       "  not enabled. See the <a href=\"https://ipywidgets.readthedocs.io/en/stable/user_install.html\">Jupyter\n",
       "  Widgets Documentation</a> for setup instructions.\n",
       "</p>\n",
       "<p>\n",
       "  If you're reading this message in another frontend (for example, a static\n",
       "  rendering on GitHub or <a href=\"https://nbviewer.jupyter.org/\">NBViewer</a>),\n",
       "  it may mean that your frontend doesn't currently support widgets.\n",
       "</p>\n"
      ],
      "text/plain": [
       "IntSlider(value=1, description='Month', max=12, min=1)"
      ]
     },
     "metadata": {},
     "output_type": "display_data"
    },
    {
     "data": {
      "application/vnd.jupyter.widget-view+json": {
       "model_id": "66f5cafd782740d99da4d7eeb17192cf",
       "version_major": 2,
       "version_minor": 0
      },
      "text/html": [
       "<p>Failed to display Jupyter Widget of type <code>IntSlider</code>.</p>\n",
       "<p>\n",
       "  If you're reading this message in the Jupyter Notebook or JupyterLab Notebook, it may mean\n",
       "  that the widgets JavaScript is still loading. If this message persists, it\n",
       "  likely means that the widgets JavaScript library is either not installed or\n",
       "  not enabled. See the <a href=\"https://ipywidgets.readthedocs.io/en/stable/user_install.html\">Jupyter\n",
       "  Widgets Documentation</a> for setup instructions.\n",
       "</p>\n",
       "<p>\n",
       "  If you're reading this message in another frontend (for example, a static\n",
       "  rendering on GitHub or <a href=\"https://nbviewer.jupyter.org/\">NBViewer</a>),\n",
       "  it may mean that your frontend doesn't currently support widgets.\n",
       "</p>\n"
      ],
      "text/plain": [
       "IntSlider(value=1, description='Day', max=31, min=1)"
      ]
     },
     "metadata": {},
     "output_type": "display_data"
    }
   ],
   "source": [
    "Month=widgets.IntSlider(min=1,max=12,description=\"Month\")\n",
    "display(Month)\n",
    "Day=widgets.IntSlider(min=1,max=31,description=\"Day\")\n",
    "display(Day)"
   ]
  },
  {
   "cell_type": "code",
   "execution_count": 30,
   "metadata": {},
   "outputs": [
    {
     "name": "stdout",
     "output_type": "stream",
     "text": [
      "8 / 17 was a Tuesday\n"
     ]
    }
   ],
   "source": [
    "print(Month.value, \"/\" ,Day.value, \"was a\", calculateday(Month.value,Day.value));"
   ]
  },
  {
   "cell_type": "markdown",
   "metadata": {},
   "source": [
    "![alt text](https://github.com/callysto/callysto-sample-notebooks/blob/master/notebooks/images/Callysto_Notebook-Banners_Bottom_06.06.18.jpg?raw=true)"
   ]
  }
 ],
 "metadata": {
  "kernelspec": {
   "display_name": "Python 3",
   "language": "python",
   "name": "python3"
  },
  "language_info": {
   "codemirror_mode": {
    "name": "ipython",
    "version": 3
   },
   "file_extension": ".py",
   "mimetype": "text/x-python",
   "name": "python",
   "nbconvert_exporter": "python",
   "pygments_lexer": "ipython3",
   "version": "3.6.5"
  }
 },
 "nbformat": 4,
 "nbformat_minor": 2
}

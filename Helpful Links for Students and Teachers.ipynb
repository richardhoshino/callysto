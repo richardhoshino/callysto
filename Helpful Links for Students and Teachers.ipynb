{
 "cells": [
  {
   "cell_type": "markdown",
   "metadata": {},
   "source": [
    "# Helpful Links for Students and Teachers"
   ]
  },
  {
   "cell_type": "markdown",
   "metadata": {},
   "source": [
    "Callysto Home Page https://callysto.ca/\n",
    "\n",
    "Callysto Developer Guide https://callysto.ca/developer-guide/\n",
    "\n",
    "Callysto Training Manual https://training.callysto.ca/\n",
    "\n",
    "Getting Started with Callysto https://hub.callysto.ca/jupyter/user/2191a23443f7062b0af4cec04767590fa3b11f33/notebooks/getting-started/getting-started.ipynb\n",
    "\n",
    "Using the Jupyter Notebook http://intro.syzygy.ca/the-basic-elements/  \n",
    "\n",
    "Michael Lamoureux's Short Demos http://bit.ly/cally-shorts2\n",
    "\n",
    "Markdown Cheatsheet https://github.com/adam-p/markdown-here/wiki/Markdown-Cheatsheet\n",
    "\n",
    "\n",
    "\n"
   ]
  }
 ],
 "metadata": {
  "kernelspec": {
   "display_name": "Python 3",
   "language": "python",
   "name": "python3"
  },
  "language_info": {
   "codemirror_mode": {
    "name": "ipython",
    "version": 3
   },
   "file_extension": ".py",
   "mimetype": "text/x-python",
   "name": "python",
   "nbconvert_exporter": "python",
   "pygments_lexer": "ipython3",
   "version": "3.6.5"
  }
 },
 "nbformat": 4,
 "nbformat_minor": 2
}
